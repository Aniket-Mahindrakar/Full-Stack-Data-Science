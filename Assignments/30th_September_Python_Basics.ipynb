{
 "cells": [
  {
   "cell_type": "markdown",
   "id": "5a06e664-653f-4982-b761-bb2c1e514e14",
   "metadata": {},
   "source": [
    "# TOPIC: Python Basics Variable"
   ]
  },
  {
   "cell_type": "code",
   "execution_count": 1,
   "id": "68619010-33a6-47ec-bd3b-acfc2ce99bb3",
   "metadata": {},
   "outputs": [
    {
     "name": "stdout",
     "output_type": "stream",
     "text": [
      "Initial values:\n",
      "X =  10 | Y =  20\n",
      "\n",
      "Swapped values:\n",
      "X =  20 | Y =  10\n"
     ]
    }
   ],
   "source": [
    "# 1. Declare two variables, `x` and `y`, and assign them integer values. Swap the values of these variables without using any temporary variable.\n",
    "\n",
    "# Declaring variables 'x' and 'y'\n",
    "x, y = 10, 20\n",
    "\n",
    "print(\"Initial values:\")\n",
    "print(\"X = \", x, \"| Y = \", y)\n",
    "\n",
    "# Swap variable values without using a temporary variable\n",
    "x = x + y # X will contain a combined value of both x and y\n",
    "y = x - y # Subtract value of y from the combined value to store the original value of x in y\n",
    "x = x - y # Subtract the original value of x, a.k.a. current y value from the combined value and store it in x\n",
    "\n",
    "print(\"\\nSwapped values:\")\n",
    "print(\"X = \", x, \"| Y = \", y)"
   ]
  },
  {
   "cell_type": "code",
   "execution_count": 2,
   "id": "541d23af-30bb-47c5-bc19-d3bc0dc45d69",
   "metadata": {},
   "outputs": [
    {
     "name": "stdin",
     "output_type": "stream",
     "text": [
      "Input length of the rectangle: 10.2\n",
      "Input width of the rectangle: 20.4\n"
     ]
    },
    {
     "name": "stdout",
     "output_type": "stream",
     "text": [
      "\n",
      "Area of the rectangle =  208.08\n"
     ]
    }
   ],
   "source": [
    "# 2. Create a program that calculates the area of a rectangle. Take the length and width as inputs from the user and store them in variables. Calculate and display the area.\n",
    "length = float(input(\"Input length of the rectangle:\"))\n",
    "width = float(input(\"Input width of the rectangle:\"))\n",
    "\n",
    "print(\"\\nArea of the rectangle = \", round(length * width, 2)) # Area of a rectangle = length * width"
   ]
  },
  {
   "cell_type": "code",
   "execution_count": 3,
   "id": "ebb6e877-d635-4a26-8b06-cfdd5202193d",
   "metadata": {},
   "outputs": [
    {
     "name": "stdin",
     "output_type": "stream",
     "text": [
      "Input temperature in Celsius: 100\n"
     ]
    },
    {
     "name": "stdout",
     "output_type": "stream",
     "text": [
      "\n",
      "Temperature (in fahrenheit) =  212.0\n"
     ]
    }
   ],
   "source": [
    "# 3. Write a Python program that converts temperatures from Celsius to Fahrenheit. Take the temperature in Celsius as input, store it in a variable, convert it to Fahrenheit, and display the result.\n",
    "celsius_temperature = int(input(\"Input temperature in Celsius:\"))\n",
    "\n",
    "fahrenheit_temperature = (celsius_temperature * (9 / 5)) + 32 # Fromula for temperature conversion from Celsius to Fahrenheit\n",
    "\n",
    "print(\"\\nTemperature (in fahrenheit) = \", round(fahrenheit_temperature, 2))"
   ]
  },
  {
   "cell_type": "markdown",
   "id": "ee3af5c9-63a9-4108-9417-38eccc52f4cd",
   "metadata": {},
   "source": [
    "# TOPIC: String Based Questions"
   ]
  },
  {
   "cell_type": "code",
   "execution_count": 4,
   "id": "ec28e9a7-ee7b-4652-8d5a-10681a98c6d4",
   "metadata": {},
   "outputs": [
    {
     "name": "stdin",
     "output_type": "stream",
     "text": [
      "Input a string: PW Skills\n"
     ]
    },
    {
     "name": "stdout",
     "output_type": "stream",
     "text": [
      "\n",
      "Length of the string =  9 characters\n"
     ]
    }
   ],
   "source": [
    "# 1. Write a Python program that takes a string as input and prints the length of the string.\n",
    "string = input(\"Input a string:\")\n",
    "\n",
    "print(\"\\nLength of the string = \", len(string), \"characters\") # Used the len() function to return the length of the string"
   ]
  },
  {
   "cell_type": "code",
   "execution_count": 5,
   "id": "44709901-1f03-489e-ba71-ae432f435409",
   "metadata": {},
   "outputs": [
    {
     "name": "stdin",
     "output_type": "stream",
     "text": [
      "Input a sentence: I am enjoying the data science program.\n"
     ]
    },
    {
     "name": "stdout",
     "output_type": "stream",
     "text": [
      "\n",
      "Number of vowels in the sentence =  13\n"
     ]
    }
   ],
   "source": [
    "# 2. Create a program that takes a sentence from the user and counts the number of vowels (a, e, i, o, u) in the string.\n",
    "sentence = input(\"Input a sentence:\")\n",
    "\n",
    "sentence = sentence.lower() # Lower the values in a string\n",
    "\n",
    "# Initialize a variable count to 0\n",
    "count = 0\n",
    "\n",
    "# Recurse through all values in a sentence and count the number of vowels using an if statement and a counter\n",
    "for c in sentence:\n",
    "    if(c == \"a\" or c == \"e\" or c == \"i\" or c == \"o\" or c == \"u\"):\n",
    "        count += 1\n",
    "\n",
    "print(\"\\nNumber of vowels in the sentence = \", count)"
   ]
  },
  {
   "cell_type": "code",
   "execution_count": 6,
   "id": "126b0cae-2320-435f-9e66-3ea3438522e3",
   "metadata": {},
   "outputs": [
    {
     "name": "stdin",
     "output_type": "stream",
     "text": [
      "Input a string: Machine Learning\n"
     ]
    },
    {
     "name": "stdout",
     "output_type": "stream",
     "text": [
      "\n",
      "Reversed string =  gninraeL enihcaM\n"
     ]
    }
   ],
   "source": [
    "# 3. Given a string, reverse the order of characters using string slicing and print the reversed string.\n",
    "string = input(\"Input a string:\")\n",
    "\n",
    "# Reversing a string by slicing it backwards using the -1 in the end\n",
    "print(\"\\nReversed string = \", string[::-1])"
   ]
  },
  {
   "cell_type": "code",
   "execution_count": 7,
   "id": "c35046db-7a4b-43b1-a592-03366c5c6e6a",
   "metadata": {},
   "outputs": [
    {
     "name": "stdin",
     "output_type": "stream",
     "text": [
      "Input a string: madam\n"
     ]
    },
    {
     "name": "stdout",
     "output_type": "stream",
     "text": [
      "\n",
      "The string madam is a palindrome\n"
     ]
    }
   ],
   "source": [
    "# 4. Write a program that takes a string as input and checks if it is a palindrome (reads the same forwards and backwards).\n",
    "string = input(\"Input a string:\")\n",
    "\n",
    "reversed_string = string[::-1] # Reversed string\n",
    "\n",
    "# Check if string and reversed string are the same or not\n",
    "if(string == reversed_string):\n",
    "    print(\"\\nThe string\", string, \"is a palindrome\")\n",
    "else:\n",
    "    print(\"\\nThe string\", string, \"is not a palindrome\")"
   ]
  },
  {
   "cell_type": "code",
   "execution_count": 8,
   "id": "cd7396eb-f2bd-4fda-b07f-96e9bf9a6dbb",
   "metadata": {},
   "outputs": [
    {
     "name": "stdin",
     "output_type": "stream",
     "text": [
      "Input a string: Artificial Intelligence and Data Science\n"
     ]
    },
    {
     "name": "stdout",
     "output_type": "stream",
     "text": [
      "\n",
      "String with no whitespaces =  ArtificialIntelligenceandDataScience\n"
     ]
    }
   ],
   "source": [
    "# 5. Create a program that takes a string as input and removes all the spaces from it. Print the modified string without spaces.\n",
    "string = input(\"Input a string:\")\n",
    "\n",
    "# Replace the whitespaces with empty character using the replace() function\n",
    "print(\"\\nString with no whitespaces = \", string.replace(' ', ''))"
   ]
  },
  {
   "cell_type": "code",
   "execution_count": null,
   "id": "4f31dac6-6530-4713-8e78-a5759206e4b1",
   "metadata": {},
   "outputs": [],
   "source": []
  }
 ],
 "metadata": {
  "kernelspec": {
   "display_name": "Python 3 (ipykernel)",
   "language": "python",
   "name": "python3"
  },
  "language_info": {
   "codemirror_mode": {
    "name": "ipython",
    "version": 3
   },
   "file_extension": ".py",
   "mimetype": "text/x-python",
   "name": "python",
   "nbconvert_exporter": "python",
   "pygments_lexer": "ipython3",
   "version": "3.10.8"
  }
 },
 "nbformat": 4,
 "nbformat_minor": 5
}
