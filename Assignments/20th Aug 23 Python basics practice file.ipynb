{
 "cells": [
  {
   "cell_type": "markdown",
   "id": "50859bf0-fd7d-44a2-913a-d66644f2c3ad",
   "metadata": {},
   "source": [
    "# TOPIC: String Based Assignment Problem"
   ]
  },
  {
   "cell_type": "code",
   "execution_count": 66,
   "id": "54e424d2-c213-41d9-b46e-9f6f871f8e83",
   "metadata": {},
   "outputs": [],
   "source": [
    "import re\n",
    "import random"
   ]
  },
  {
   "cell_type": "code",
   "execution_count": 3,
   "id": "9e358ec6-2775-4b20-bf9e-913168c909b8",
   "metadata": {},
   "outputs": [
    {
     "name": "stdout",
     "output_type": "stream",
     "text": [
      "Reversed String =  gnirts\n"
     ]
    }
   ],
   "source": [
    "# 1. Write a program to reverse a string.\n",
    "string = \"string\"\n",
    "reversed_string = string[::-1]\n",
    "\n",
    "print(\"Reversed String = \", reversed_string)"
   ]
  },
  {
   "cell_type": "code",
   "execution_count": 4,
   "id": "b54423c4-efbf-4026-bef8-e28a39ec4a8b",
   "metadata": {},
   "outputs": [
    {
     "name": "stdout",
     "output_type": "stream",
     "text": [
      "The string is a palindrome\n"
     ]
    }
   ],
   "source": [
    "# 2. Check if a string is a palindrome.\n",
    "pal_string = \"madam\"\n",
    "\n",
    "if(pal_string == pal_string[::-1]):\n",
    "    print(\"The string is a palindrome\")\n",
    "else:\n",
    "    print(\"The string is not a palindrome\")"
   ]
  },
  {
   "cell_type": "code",
   "execution_count": 5,
   "id": "434fe8e1-7b35-4ac9-bd47-3aec1aa03958",
   "metadata": {},
   "outputs": [
    {
     "name": "stdout",
     "output_type": "stream",
     "text": [
      "Upper case string = PWSKILLS\n"
     ]
    }
   ],
   "source": [
    "# 3. Convert a string to uppercase.\n",
    "string = \"pwskills\"\n",
    "\n",
    "print(\"Upper case string =\", string.upper())"
   ]
  },
  {
   "cell_type": "code",
   "execution_count": 6,
   "id": "99f34e21-ff91-4f14-9acc-e6c739d95668",
   "metadata": {},
   "outputs": [
    {
     "name": "stdout",
     "output_type": "stream",
     "text": [
      "Lower case string = pwskills\n"
     ]
    }
   ],
   "source": [
    "# 4. Convert a string to lowercase.\n",
    "string = \"PWSKILLS\"\n",
    "\n",
    "print(\"Lower case string =\", string.lower())"
   ]
  },
  {
   "cell_type": "code",
   "execution_count": 7,
   "id": "7562ba75-1b9b-491e-9886-c9a5df0bc857",
   "metadata": {},
   "outputs": [
    {
     "name": "stdout",
     "output_type": "stream",
     "text": [
      "Number of vowels = 1\n"
     ]
    }
   ],
   "source": [
    "# 5. Count the number of vowels in a string.\n",
    "string = \"pwskills\"\n",
    "\n",
    "count = 0\n",
    "for c in string:\n",
    "    if(c == \"a\" or c == \"e\" or c == \"i\" or c == \"o\" or c == \"u\"):\n",
    "        count += 1\n",
    "\n",
    "print(\"Number of vowels =\", count)"
   ]
  },
  {
   "cell_type": "code",
   "execution_count": 9,
   "id": "2eec0c7b-cdd3-42d2-9585-8c3595093051",
   "metadata": {},
   "outputs": [
    {
     "name": "stdout",
     "output_type": "stream",
     "text": [
      "Number of vowels = 7\n"
     ]
    }
   ],
   "source": [
    "# 6. Count the number of consonants in a string.\n",
    "string = \"pwskills\"\n",
    "\n",
    "count = 0\n",
    "for c in string:\n",
    "    if(c != \"a\" and c != \"e\" and c != \"i\" and c != \"o\" and c != \"u\"):\n",
    "        count += 1\n",
    "\n",
    "print(\"Number of vowels =\", count)"
   ]
  },
  {
   "cell_type": "code",
   "execution_count": 11,
   "id": "0b2d21d6-429e-4975-8f49-e0e5ed0d73e4",
   "metadata": {},
   "outputs": [
    {
     "name": "stdout",
     "output_type": "stream",
     "text": [
      "String with no spaces = Iamenjoyingthedatascienceprogram\n"
     ]
    }
   ],
   "source": [
    "# 7. Remove all whitespaces from a string.\n",
    "string = \"I am enjoying the data science program\"\n",
    "\n",
    "print(\"String with no spaces =\", string.replace(\" \", \"\"))"
   ]
  },
  {
   "cell_type": "code",
   "execution_count": 14,
   "id": "ee2b20d7-1164-4f2f-8a4b-4b64d2545983",
   "metadata": {},
   "outputs": [
    {
     "name": "stdout",
     "output_type": "stream",
     "text": [
      "Length of the string = 8\n"
     ]
    }
   ],
   "source": [
    "# 8. Find the length of a string without using the `len()` function.\n",
    "string = \"pwskills\"\n",
    "count = 0\n",
    "for _ in string:\n",
    "    count += 1\n",
    "\n",
    "print(\"Length of the string =\", count)"
   ]
  },
  {
   "cell_type": "code",
   "execution_count": 20,
   "id": "0f177a8d-863b-48f0-a78f-c5764bd51379",
   "metadata": {},
   "outputs": [
    {
     "name": "stdout",
     "output_type": "stream",
     "text": [
      "The word - data - is present in the string\n"
     ]
    }
   ],
   "source": [
    "# 9. Check if a string contains a specific word.\n",
    "string = \"I am enjoying data science\"\n",
    "word = \"data\"\n",
    "\n",
    "if(word in string):\n",
    "    print(\"The word -\", word, \"- is present in the string\")\n",
    "else:\n",
    "    print(\"The word\", word, \"is not present in the string\")"
   ]
  },
  {
   "cell_type": "code",
   "execution_count": 22,
   "id": "a82d1902-3046-4710-93df-28bfa638d0c5",
   "metadata": {},
   "outputs": [
    {
     "name": "stdout",
     "output_type": "stream",
     "text": [
      "Replaced string = I am enjoying data engineering\n"
     ]
    }
   ],
   "source": [
    "# 10. Replace a word in a string with another word.\n",
    "string = \"I am enjoying data science\"\n",
    "word = \"science\"\n",
    "replace_word = \"engineering\"\n",
    "\n",
    "print(\"Replaced string =\", string.replace(word, replace_word))"
   ]
  },
  {
   "cell_type": "code",
   "execution_count": 26,
   "id": "8aa0b234-3894-45fd-b79b-d751829d25fb",
   "metadata": {},
   "outputs": [
    {
     "name": "stdout",
     "output_type": "stream",
     "text": [
      "The number of occurences of the word data in string = 4\n"
     ]
    }
   ],
   "source": [
    "# 11. Count the occurrences of a word in a string.\n",
    "string = \"data engineering, data science, data analytics, data visualisation\"\n",
    "word = \"data\"\n",
    "\n",
    "count = 0\n",
    "for w in string.split():\n",
    "    if(w == word):\n",
    "        count += 1\n",
    "        \n",
    "print(\"The number of occurences of the word \"+word+\" in string = \"+str(count))"
   ]
  },
  {
   "cell_type": "code",
   "execution_count": 29,
   "id": "fdcc7108-f167-4aa1-8fe9-f41642080872",
   "metadata": {},
   "outputs": [
    {
     "name": "stdout",
     "output_type": "stream",
     "text": [
      "Index of the word data in string = 18\n"
     ]
    }
   ],
   "source": [
    "# 12. Find the first occurrence of a word in a string.\n",
    "string = \"machine learning, data science\"\n",
    "word = \"data\"\n",
    "\n",
    "print(\"Index of the word \"+word+\" in string = \"+str(string.find(word)))"
   ]
  },
  {
   "cell_type": "code",
   "execution_count": 30,
   "id": "cc4b336f-a767-4c35-b551-f65fa69f2b30",
   "metadata": {},
   "outputs": [
    {
     "name": "stdout",
     "output_type": "stream",
     "text": [
      "Last index of the word data in string = 48\n"
     ]
    }
   ],
   "source": [
    "# 13. Find the last occurrence of a word in a string.\n",
    "string = \"data engineering, data science, data analytics, data visualisation\"\n",
    "word = \"data\"\n",
    "\n",
    "print(\"Last index of the word \"+word+\" in string = \"+str(string.rfind(word)))"
   ]
  },
  {
   "cell_type": "code",
   "execution_count": 33,
   "id": "8a837f1a-5537-4554-8e16-edd32ca0b9f1",
   "metadata": {},
   "outputs": [
    {
     "name": "stdout",
     "output_type": "stream",
     "text": [
      "Split list of words = ['data', 'engineering,', 'data', 'science,', 'data', 'analytics,', 'data', 'visualisation']\n"
     ]
    }
   ],
   "source": [
    "# 14. Split a string into a list of words.\n",
    "string = \"data engineering, data science, data analytics, data visualisation\"\n",
    "split_string = string.split()\n",
    "\n",
    "print(\"Split list of words =\", split_string)"
   ]
  },
  {
   "cell_type": "code",
   "execution_count": 34,
   "id": "90a8f59b-333b-4171-91d6-03d6b2e01c7b",
   "metadata": {},
   "outputs": [
    {
     "name": "stdout",
     "output_type": "stream",
     "text": [
      "Joint string = data engineering, data science, data analytics, data visualisation\n"
     ]
    }
   ],
   "source": [
    "# 15. Join a list of words into a string.\n",
    "print(\"Joint string =\", ' '.join(split_string))"
   ]
  },
  {
   "cell_type": "code",
   "execution_count": 35,
   "id": "9cedc69a-e657-4595-b626-dad662fb8481",
   "metadata": {},
   "outputs": [
    {
     "name": "stdout",
     "output_type": "stream",
     "text": [
      "String with underscores = data_engineering,_data_science,_data_analytics,_data_visualisation\n"
     ]
    }
   ],
   "source": [
    "# 16. Convert a string where words are separated by spaces to one where words are separated by underscores.\n",
    "string = \"data engineering, data science, data analytics, data visualisation\"\n",
    "\n",
    "replaced_string = string.replace(\" \", \"_\")\n",
    "\n",
    "print(\"String with underscores =\", replaced_string)"
   ]
  },
  {
   "cell_type": "code",
   "execution_count": 39,
   "id": "551b2238-469b-4151-9c63-9dbcdd4eb931",
   "metadata": {},
   "outputs": [
    {
     "name": "stdout",
     "output_type": "stream",
     "text": [
      "The string starts with the word : data\n"
     ]
    }
   ],
   "source": [
    "# 17. Check if a string starts with a specific word or phrase.\n",
    "string = \"data engineering, data science, data analytics, data visualisation\"\n",
    "word = \"data\"\n",
    "\n",
    "if(string.startswith(word)):\n",
    "    print(\"The string starts with the word :\", word)\n",
    "else:\n",
    "    print(\"The string does not start with the word :\", word)"
   ]
  },
  {
   "cell_type": "code",
   "execution_count": 40,
   "id": "786811ee-b4f2-4ab0-aacf-c1be1a487379",
   "metadata": {},
   "outputs": [
    {
     "name": "stdout",
     "output_type": "stream",
     "text": [
      "The string ends with the word : visualisation\n"
     ]
    }
   ],
   "source": [
    "# 18. Check if a string ends with a specific word or phrase.\n",
    "string = \"data engineering, data science, data analytics, data visualisation\"\n",
    "word = \"visualisation\"\n",
    "\n",
    "if(string.endswith(word)):\n",
    "    print(\"The string ends with the word :\", word)\n",
    "else:\n",
    "    print(\"The string does not end with the word :\", word)"
   ]
  },
  {
   "cell_type": "code",
   "execution_count": 41,
   "id": "d4657618-d8d9-4356-80e3-b2f84bff3ad8",
   "metadata": {},
   "outputs": [
    {
     "name": "stdout",
     "output_type": "stream",
     "text": [
      "Title cased string = Hello World\n"
     ]
    }
   ],
   "source": [
    "# 19. Convert a string to title case (e.g., \"hello world\" to \"Hello World\").\n",
    "string = \"hello world\"\n",
    "\n",
    "print(\"Title cased string =\", string.title())"
   ]
  },
  {
   "cell_type": "code",
   "execution_count": 49,
   "id": "128cec3e-f2d3-4034-904d-b0835787055b",
   "metadata": {},
   "outputs": [
    {
     "name": "stdout",
     "output_type": "stream",
     "text": [
      "The word with maximum string length = visualisation\n"
     ]
    }
   ],
   "source": [
    "# 20. Find the longest word in a string.\n",
    "string = \"data engineering, data science, data analytics, data visualisation\"\n",
    "string = string.split()\n",
    "string_len = [len(s) for s in string]\n",
    "argmax = 0\n",
    "for i in range(len(string_len)):\n",
    "    if(string_len[i] > string_len[argmax]):\n",
    "        argmax = i\n",
    "        \n",
    "print(\"The word with maximum string length =\", string[argmax])"
   ]
  },
  {
   "cell_type": "code",
   "execution_count": 51,
   "id": "9322e432-9a80-433d-9ceb-4562a24a4885",
   "metadata": {},
   "outputs": [
    {
     "name": "stdout",
     "output_type": "stream",
     "text": [
      "The word with minimum string length = data\n"
     ]
    }
   ],
   "source": [
    "# 21. Find the shortest word in a string.\n",
    "string = \"data engineering, data science, data analytics, data visualisation\"\n",
    "string = string.split()\n",
    "string_len = [len(s) for s in string]\n",
    "argmin = 0\n",
    "for i in range(len(string_len)):\n",
    "    if(string_len[i] < string_len[argmin]):\n",
    "        argmin = i\n",
    "        \n",
    "print(\"The word with minimum string length =\", string[argmin])"
   ]
  },
  {
   "cell_type": "code",
   "execution_count": 54,
   "id": "d846a556-675f-41f4-8e0e-f02cde24fbec",
   "metadata": {},
   "outputs": [
    {
     "name": "stdout",
     "output_type": "stream",
     "text": [
      "Reversed order of words in the string = visualisation data analytics, data science, data engineering, data\n"
     ]
    }
   ],
   "source": [
    "# 22. Reverse the order of words in a string.\n",
    "string = \"data engineering, data science, data analytics, data visualisation\"\n",
    "\n",
    "print(\"Reversed order of words in the string =\", ' '.join(string.split()[::-1]))"
   ]
  },
  {
   "cell_type": "code",
   "execution_count": 55,
   "id": "55b25fb1-423a-4b70-9321-a2ca07ec8bc0",
   "metadata": {},
   "outputs": [
    {
     "name": "stdout",
     "output_type": "stream",
     "text": [
      "The string - helloworld123 - is alphanumeric\n"
     ]
    }
   ],
   "source": [
    "# 23. Check if a string is alphanumeric.\n",
    "string = \"helloworld123\"\n",
    "\n",
    "if(string.isalnum()):\n",
    "    print(\"The string -\", string, \"- is alphanumeric\")\n",
    "else:\n",
    "    print(\"The string -\", string, \"- is not alphanumeric\")"
   ]
  },
  {
   "cell_type": "code",
   "execution_count": 60,
   "id": "e903d741-966b-4282-b956-788673e014d0",
   "metadata": {},
   "outputs": [
    {
     "name": "stdout",
     "output_type": "stream",
     "text": [
      "Digits in the string = ['123', '456', '789']\n"
     ]
    }
   ],
   "source": [
    "# 24. Extract all digits from a string.\n",
    "string = \"helloworld123 456 789\"\n",
    "\n",
    "print(\"Digits in the string =\", re.findall(r'\\d+', string))"
   ]
  },
  {
   "cell_type": "code",
   "execution_count": 65,
   "id": "6b2e66b3-67f4-47b3-9dad-5d03bd1459ef",
   "metadata": {},
   "outputs": [
    {
     "name": "stdout",
     "output_type": "stream",
     "text": [
      "Words in the string = ['helloworld', 'world']\n"
     ]
    }
   ],
   "source": [
    "# 25. Extract all alphabets from a string.\n",
    "string = \"helloworld123 world 789\"\n",
    "\n",
    "print(\"Words in the string =\", re.findall(r'[a-zA-Z]+', string))"
   ]
  },
  {
   "cell_type": "code",
   "execution_count": 68,
   "id": "b7250ea8-38db-4c5c-a933-0e4f964fd609",
   "metadata": {},
   "outputs": [
    {
     "name": "stdout",
     "output_type": "stream",
     "text": [
      "Number of upper case letters in the string = 10\n"
     ]
    }
   ],
   "source": [
    "# 26. Count the number of uppercase letters in a string.\n",
    "string = \"PWSkilLS HellO WorLD\"\n",
    "\n",
    "count = 0\n",
    "for word in re.findall(r'[A-Z]+', string):\n",
    "    count += len(word)\n",
    "    \n",
    "print(\"Number of upper case letters in the string =\", count)"
   ]
  },
  {
   "cell_type": "code",
   "execution_count": 70,
   "id": "9b8fc06f-5b15-4925-9858-c76165631dba",
   "metadata": {},
   "outputs": [
    {
     "name": "stdout",
     "output_type": "stream",
     "text": [
      "Number of lower case letters in the string = 8\n"
     ]
    }
   ],
   "source": [
    "# 27. Count the number of lowercase letters in a string.\n",
    "string = \"PWSkilLS HellO WorLD\"\n",
    "\n",
    "count = 0\n",
    "for word in re.findall(r'[a-z]+', string):\n",
    "    count += len(word)\n",
    "    \n",
    "print(\"Number of lower case letters in the string =\", count)"
   ]
  },
  {
   "cell_type": "code",
   "execution_count": 2,
   "id": "806ab955-da3f-40d4-a3d0-aa4a7c381cea",
   "metadata": {},
   "outputs": [
    {
     "name": "stdout",
     "output_type": "stream",
     "text": [
      "Swapped case of each characters:  pwsKILls hELLo wORld\n"
     ]
    }
   ],
   "source": [
    "# 28. Swap the case of each character in a string.\n",
    "string = \"PWSkilLS HellO WorLD\"\n",
    "\n",
    "print(\"Swapped case of each characters: \", string.swapcase())"
   ]
  },
  {
   "cell_type": "code",
   "execution_count": 11,
   "id": "c117cd06-46d6-46a4-9405-e73ff803d17d",
   "metadata": {},
   "outputs": [
    {
     "name": "stdout",
     "output_type": "stream",
     "text": [
      "String after removing a specific keyword:  Hello \n"
     ]
    }
   ],
   "source": [
    "# 29. Remove a specific word from a string.\n",
    "string = \"Hello world\"\n",
    "word_to_remove = \"world\"\n",
    "\n",
    "print(\"String after removing a specific keyword: \", string.replace(word_to_remove, \"\"))"
   ]
  },
  {
   "cell_type": "code",
   "execution_count": 16,
   "id": "ff963d8d-ce2f-4d99-813e-cb68a6239e5a",
   "metadata": {},
   "outputs": [
    {
     "name": "stdin",
     "output_type": "stream",
     "text": [
      "Enter an email address: pwskills@gmail.com\n"
     ]
    },
    {
     "name": "stdout",
     "output_type": "stream",
     "text": [
      "Input email is valid\n"
     ]
    }
   ],
   "source": [
    "# 30. Check if a string is a valid email address.\n",
    "email = input(\"Enter an email address:\")\n",
    "if not re.match(r\"\\\"?([-a-zA-Z0-9.`?{}]+@\\w+\\.\\w+)\\\"?\", email):\n",
    "    print(\"Input email is invalid\")\n",
    "else:\n",
    "    print(\"Input email is valid\")"
   ]
  },
  {
   "cell_type": "code",
   "execution_count": 19,
   "id": "27a22cf1-8a9e-4cd8-89f3-b3cfa31a9c22",
   "metadata": {},
   "outputs": [
    {
     "name": "stdin",
     "output_type": "stream",
     "text": [
      "Enter an email address: pwskills@gmail.com\n"
     ]
    },
    {
     "name": "stdout",
     "output_type": "stream",
     "text": [
      "Username =  pwskills\n"
     ]
    }
   ],
   "source": [
    "# 31. Extract the username from an email address string.\n",
    "email = input(\"Enter an email address:\")\n",
    "print(\"Username = \", email.split(\"@\")[0])"
   ]
  },
  {
   "cell_type": "code",
   "execution_count": 20,
   "id": "7f9d47d7-9937-4f29-8342-5537317cb0cb",
   "metadata": {},
   "outputs": [
    {
     "name": "stdout",
     "output_type": "stream",
     "text": [
      "Domain name = gmail.com\n"
     ]
    }
   ],
   "source": [
    "# 32. Extract the domain name from an email address string.\n",
    "email = \"pwskills@gmail.com\"\n",
    "print(\"Domain name =\", email.split(\"@\")[1])"
   ]
  },
  {
   "cell_type": "code",
   "execution_count": 24,
   "id": "db6ceb31-e904-4eeb-ad8e-069078649d88",
   "metadata": {},
   "outputs": [
    {
     "name": "stdout",
     "output_type": "stream",
     "text": [
      "Replaced string =  Hello World !!!!\n"
     ]
    }
   ],
   "source": [
    "# 33. Replace multiple spaces in a string with a single space.\n",
    "string = \"Hello        World    !!!!\"\n",
    "print(\"Replaced string = \", re.sub(\"[ ]+\", ' ', string))"
   ]
  },
  {
   "cell_type": "code",
   "execution_count": 28,
   "id": "20985c1c-57e2-4a55-aaf4-6a0de525f465",
   "metadata": {},
   "outputs": [
    {
     "name": "stdin",
     "output_type": "stream",
     "text": [
      "Enter a URL: https://www.google.com\n"
     ]
    },
    {
     "name": "stdout",
     "output_type": "stream",
     "text": [
      "Input URL is valid\n"
     ]
    }
   ],
   "source": [
    "# 34. Check if a string is a valid URL.\n",
    "url = input(\"Enter a URL:\")\n",
    "regex = re.compile(\n",
    "        r'^(?:http|ftp)s?://' # http:// or https://\n",
    "        r'(?:(?:[A-Z0-9](?:[A-Z0-9-]{0,61}[A-Z0-9])?\\.)+(?:[A-Z]{2,6}\\.?|[A-Z0-9-]{2,}\\.?)|' #domain...\n",
    "        r'localhost|' #localhost...\n",
    "        r'\\d{1,3}\\.\\d{1,3}\\.\\d{1,3}\\.\\d{1,3})' # ...or ip\n",
    "        r'(?::\\d+)?' # optional port\n",
    "        r'(?:/?|[/?]\\S+)$', re.IGNORECASE)\n",
    "\n",
    "if not re.match(regex, url):\n",
    "    print(\"Input URL is invalid\")\n",
    "else:\n",
    "    print(\"Input URL is valid\")"
   ]
  },
  {
   "cell_type": "code",
   "execution_count": 30,
   "id": "4401b1fd-df86-416d-8cdd-7a5fd86c0343",
   "metadata": {},
   "outputs": [
    {
     "name": "stdin",
     "output_type": "stream",
     "text": [
      "Enter a URL: https://www.google.com\n"
     ]
    },
    {
     "name": "stdout",
     "output_type": "stream",
     "text": [
      "Protocol =  https\n"
     ]
    }
   ],
   "source": [
    "# 35. Extract the protocol (http or https) from a URL string.\n",
    "url = input(\"Enter a URL:\")\n",
    "print(\"Protocol = \", url.split(\":\")[0])"
   ]
  },
  {
   "cell_type": "code",
   "execution_count": 34,
   "id": "842e46e1-1535-4369-a398-1ccfd69f7f5d",
   "metadata": {},
   "outputs": [
    {
     "name": "stdin",
     "output_type": "stream",
     "text": [
      "Enter a string: I am enjoying pwskills classes\n",
      "Enter a character: s\n"
     ]
    },
    {
     "name": "stdout",
     "output_type": "stream",
     "text": [
      "Frequency of character 's' in the string = 5\n"
     ]
    }
   ],
   "source": [
    "# 36. Find the frequency of each character in a string.\n",
    "string = input(\"Enter a string:\")\n",
    "character = input(\"Enter a character:\")\n",
    "count = 0\n",
    "for s in string:\n",
    "    if(s == character):\n",
    "        count += 1\n",
    "\n",
    "print(f\"Frequency of character \\'{character}\\' in the string = {count}\")"
   ]
  },
  {
   "cell_type": "code",
   "execution_count": 40,
   "id": "e8b9a83e-4b00-4f9a-9738-55b8a7f10129",
   "metadata": {},
   "outputs": [
    {
     "data": {
      "text/plain": [
       "'Hello world I am enjoying the Data science course'"
      ]
     },
     "execution_count": 40,
     "metadata": {},
     "output_type": "execute_result"
    }
   ],
   "source": [
    "# 37. Remove all punctuation from a string.\n",
    "string = \"Hello world!!!! I am enjoying the Data science course.\"\n",
    "\n",
    "re.sub(r'[^\\w\\s]', '', string)"
   ]
  },
  {
   "cell_type": "code",
   "execution_count": 47,
   "id": "51daeb9f-361a-40a4-a418-7e7ef5311646",
   "metadata": {},
   "outputs": [
    {
     "name": "stdout",
     "output_type": "stream",
     "text": [
      "String is not a digit\n"
     ]
    }
   ],
   "source": [
    "# 38. Check if a string contains only digits.\n",
    "string = \"12345 678\"\n",
    "if(string.isdigit()):\n",
    "    print(\"String is a digit\")\n",
    "else:\n",
    "    print(\"String is not a digit\")"
   ]
  },
  {
   "cell_type": "code",
   "execution_count": 51,
   "id": "812be311-5b38-4ec4-9836-c0ab554f7c1b",
   "metadata": {},
   "outputs": [
    {
     "name": "stdout",
     "output_type": "stream",
     "text": [
      "String contains alphabets\n"
     ]
    }
   ],
   "source": [
    "# 39. Check if a string contains only alphabets.\n",
    "string = \"Hello\"\n",
    "if(string.isalpha()):\n",
    "    print(\"String contains alphabets\")\n",
    "else:\n",
    "    print(\"String does not contain alphabets\")"
   ]
  },
  {
   "cell_type": "code",
   "execution_count": 53,
   "id": "09939bc8-c2d6-47d1-a20d-d0c8bfa33885",
   "metadata": {},
   "outputs": [
    {
     "name": "stdout",
     "output_type": "stream",
     "text": [
      "String of characters =  ['H', 'e', 'l', 'l', 'o', ' ', 'w', 'o', 'r', 'l', 'd', '!']\n"
     ]
    }
   ],
   "source": [
    "# 40. Convert a string to a list of characters.\n",
    "string = \"Hello world!\"\n",
    "print(\"String of characters = \", list(string))"
   ]
  },
  {
   "cell_type": "code",
   "execution_count": 58,
   "id": "2460970b-fe3b-4eb7-afcb-ea909ba63950",
   "metadata": {},
   "outputs": [
    {
     "name": "stdout",
     "output_type": "stream",
     "text": [
      "String 'anagram' and 'nagaram' are anagrams of each other\n"
     ]
    }
   ],
   "source": [
    "# 41. Check if two strings are anagrams.\n",
    "string = \"anagram\"\n",
    "anagram_str = \"nagaram\"\n",
    "\n",
    "if(sorted(string) == sorted(anagram_str)):\n",
    "    print(f\"String \\'{string}\\' and \\'{anagram_str}\\' are anagrams of each other\")\n",
    "else:\n",
    "    print(f\"String \\'{string}\\' and \\'{anagram_str}\\' are not anagrams of each other\")"
   ]
  },
  {
   "cell_type": "code",
   "execution_count": 13,
   "id": "01de87db-224c-4e34-91b6-ba03b45c6681",
   "metadata": {},
   "outputs": [
    {
     "name": "stdout",
     "output_type": "stream",
     "text": [
      "Cipher Text = MJQQT BTWQI!\n"
     ]
    }
   ],
   "source": [
    "# 42. Encode a string using a Caesar cipher.\n",
    "def encrypt(key, message):\n",
    "    message = message.upper()\n",
    "    alpha = \"ABCDEFGHIJKLMNOPQRSTUVWXYZ\"\n",
    "    result = \"\"\n",
    "\n",
    "    for letter in message:\n",
    "        if letter in alpha: #if the letter is actually a letter\n",
    "            #find the corresponding ciphertext letter in the alphabet\n",
    "            letter_index = (alpha.find(letter) + key) % len(alpha)\n",
    "\n",
    "            result = result + alpha[letter_index]\n",
    "        else:\n",
    "            result = result + letter\n",
    "\n",
    "    return result\n",
    "\n",
    "originalText = \"Hello World!\"\n",
    "cipherText = encrypt(5, originalText)\n",
    "print(\"Cipher Text =\", cipherText)"
   ]
  },
  {
   "cell_type": "code",
   "execution_count": 17,
   "id": "4485e88d-a329-49f8-9a7a-676985993eb1",
   "metadata": {},
   "outputs": [
    {
     "name": "stdout",
     "output_type": "stream",
     "text": [
      "Decrypted Text = HELLO WORLD!\n"
     ]
    }
   ],
   "source": [
    "# 43. Decode a Caesar cipher encoded string.\n",
    "def decrypt(key, message):\n",
    "    message = message.upper()\n",
    "    alpha = \"ABCDEFGHIJKLMNOPQRSTUVWXYZ\"\n",
    "    result = \"\"\n",
    "\n",
    "    for letter in message:\n",
    "        if letter in alpha: #if the letter is actually a letter\n",
    "            #find the corresponding ciphertext letter in the alphabet\n",
    "            letter_index = (alpha.find(letter) - key) % len(alpha)\n",
    "\n",
    "            result = result + alpha[letter_index]\n",
    "        else:\n",
    "            result = result + letter\n",
    "\n",
    "    return result\n",
    "\n",
    "print(\"Decrypted Text =\", decrypt(5, cipherText))"
   ]
  },
  {
   "cell_type": "code",
   "execution_count": 25,
   "id": "1933bbb6-69e1-4bb9-a57b-d8bbd099137e",
   "metadata": {},
   "outputs": [
    {
     "name": "stdin",
     "output_type": "stream",
     "text": [
      "Enter a string: Data Science Data Analytics Data Engineering Machine Learning Deep Learning\n"
     ]
    },
    {
     "name": "stdout",
     "output_type": "stream",
     "text": [
      "Most frequent word = Data\n"
     ]
    }
   ],
   "source": [
    "# 44. Find the most frequent word in a string.\n",
    "d = {}\n",
    "string = input(\"Enter a string:\")\n",
    "result_word = \"\"\n",
    "m = -float(\"inf\")\n",
    "for word in string.split(\" \"):\n",
    "    if(word not in d):\n",
    "        d[word] = 1\n",
    "    else:\n",
    "        d[word] += 1\n",
    "    \n",
    "    if(d[word] > m):\n",
    "        m = d[word]\n",
    "        result_word = word\n",
    "        \n",
    "\n",
    "print(\"Most frequent word =\", result_word)"
   ]
  },
  {
   "cell_type": "code",
   "execution_count": 26,
   "id": "1a337d3f-e01d-4fce-94d1-2dfb4cbb81f9",
   "metadata": {},
   "outputs": [
    {
     "name": "stdin",
     "output_type": "stream",
     "text": [
      "Enter a string: Data Science Data Analytics Data Engineering Machine Learning Deep Learning\n"
     ]
    },
    {
     "name": "stdout",
     "output_type": "stream",
     "text": [
      "Unique Words = {'Science', 'Learning', 'Analytics', 'Engineering', 'Data', 'Deep', 'Machine'}\n"
     ]
    }
   ],
   "source": [
    "# 45. Find all unique words in a string.\n",
    "string = input(\"Enter a string:\")\n",
    "uniqueWords = set(string.split(\" \"))\n",
    "\n",
    "print(\"Unique Words =\", uniqueWords)"
   ]
  },
  {
   "cell_type": "code",
   "execution_count": 27,
   "id": "588b303e-36da-4abf-ad88-5315fec62339",
   "metadata": {},
   "outputs": [],
   "source": [
    "# 46. Count the number of syllables in a string."
   ]
  },
  {
   "cell_type": "code",
   "execution_count": 1,
   "id": "ffc84c4f-6818-4435-a6fb-6d69ab7142ca",
   "metadata": {},
   "outputs": [],
   "source": [
    "# 47. Check if a string contains any special characters."
   ]
  },
  {
   "cell_type": "code",
   "execution_count": 2,
   "id": "2c46d0fb-1d6c-469b-9db3-551788539f86",
   "metadata": {},
   "outputs": [],
   "source": [
    "# 48. Remove the nth word from a string."
   ]
  },
  {
   "cell_type": "code",
   "execution_count": 3,
   "id": "ff6078ad-b9d4-459a-a545-9a3eaae073b9",
   "metadata": {},
   "outputs": [],
   "source": [
    "# 49. Insert a word at the nth position in a string."
   ]
  },
  {
   "cell_type": "code",
   "execution_count": 5,
   "id": "55c9bcb4-2456-4965-bbf6-b08ff0ff2d97",
   "metadata": {},
   "outputs": [],
   "source": [
    "# 50. Convert a CSV string to a list of lists."
   ]
  },
  {
   "cell_type": "markdown",
   "id": "9a6e50c4-e519-4401-a269-0fc61fe934a7",
   "metadata": {},
   "source": [
    "# List Based Practice Problem"
   ]
  },
  {
   "cell_type": "code",
   "execution_count": 31,
   "id": "f6bb0774-ab79-4c3a-acdc-f8e5500d717c",
   "metadata": {},
   "outputs": [
    {
     "name": "stdout",
     "output_type": "stream",
     "text": [
      "List of Integers from 1 to 10:  [1, 2, 3, 4, 5, 6, 7, 8, 9, 10]\n"
     ]
    }
   ],
   "source": [
    "# 1. Create a list with integers from 1 to 10.\n",
    "list_of_int = []\n",
    "\n",
    "for i in range(1, 11):\n",
    "    list_of_int.append(i)\n",
    "    \n",
    "print(\"List of Integers from 1 to 10: \", list_of_int)"
   ]
  },
  {
   "cell_type": "code",
   "execution_count": 32,
   "id": "e9b08847-5c8a-4b8e-9227-11e5dbd373bf",
   "metadata": {},
   "outputs": [
    {
     "name": "stdout",
     "output_type": "stream",
     "text": [
      "Length of list = 10\n"
     ]
    }
   ],
   "source": [
    "# 2. Find the length of a list without using the `len()` function.\n",
    "l = 0\n",
    "for _ in list_of_int:\n",
    "    l += 1\n",
    "\n",
    "print(\"Length of list =\", l)"
   ]
  },
  {
   "cell_type": "code",
   "execution_count": 33,
   "id": "7b783e80-3577-493b-a979-7c6bdc3b187e",
   "metadata": {},
   "outputs": [
    {
     "name": "stdin",
     "output_type": "stream",
     "text": [
      "Enter an integer: 102938\n"
     ]
    },
    {
     "name": "stdout",
     "output_type": "stream",
     "text": [
      "Appended list = [1, 2, 3, 4, 5, 6, 7, 8, 9, 10, 102938]\n"
     ]
    }
   ],
   "source": [
    "# 3. Append an element to the end of a list.\n",
    "element = int(input(\"Enter an integer:\"))\n",
    "\n",
    "list_of_int.append(element)\n",
    "\n",
    "print(\"Appended list =\", list_of_int)"
   ]
  },
  {
   "cell_type": "code",
   "execution_count": 34,
   "id": "bc38df1b-04ae-401b-bc52-568d779be7c6",
   "metadata": {},
   "outputs": [
    {
     "name": "stdin",
     "output_type": "stream",
     "text": [
      "Enter an index to replace: 3\n",
      "Enter an element to replace the value in the index: PWSkills\n"
     ]
    },
    {
     "name": "stdout",
     "output_type": "stream",
     "text": [
      "Value at index 3 = PWSkills\n",
      "List = [1, 2, 3, 'PWSkills', 5, 6, 7, 8, 9, 10, 102938]\n"
     ]
    }
   ],
   "source": [
    "# 4. Insert an element at a specific index in a list.\n",
    "index = int(input(\"Enter an index to replace:\"))\n",
    "element = input(\"Enter an element to replace the value in the index:\")\n",
    "\n",
    "if(index >= len(list_of_int)):\n",
    "    print(\"Index out of bound\")\n",
    "else:\n",
    "    list_of_int[index] = element\n",
    "    print(\"Value at index\", index, \"=\", list_of_int[index])\n",
    "    \n",
    "print(\"List =\", list_of_int)"
   ]
  },
  {
   "cell_type": "code",
   "execution_count": 36,
   "id": "acf3f6cb-52fa-44cf-8070-814afcd84a2a",
   "metadata": {},
   "outputs": [
    {
     "name": "stdin",
     "output_type": "stream",
     "text": [
      "Input an element to remove: PWSkills\n"
     ]
    },
    {
     "name": "stdout",
     "output_type": "stream",
     "text": [
      "List after removal of the element [1, 2, 3, 5, 6, 7, 8, 9, 10, 102938]\n"
     ]
    }
   ],
   "source": [
    "# 5. Remove an element from a list by its value.\n",
    "element = input(\"Input an element to remove:\")\n",
    "if(element not in list_of_int):\n",
    "    print(\"The element\", element, \"does not exist in the list\")\n",
    "else:\n",
    "    list_of_int.remove(element)\n",
    "\n",
    "    print(\"List after removal of the element\", list_of_int)"
   ]
  },
  {
   "cell_type": "code",
   "execution_count": 37,
   "id": "28d179bf-ef7c-4b5d-ab8b-4b4d80621bae",
   "metadata": {},
   "outputs": [
    {
     "name": "stdin",
     "output_type": "stream",
     "text": [
      "Enter index of the element to remove 2\n"
     ]
    },
    {
     "name": "stdout",
     "output_type": "stream",
     "text": [
      "List of integers after removal of the element at index 2 = [1, 2, 5, 6, 7, 8, 9, 10, 102938]\n"
     ]
    }
   ],
   "source": [
    "# 6. Remove an element from a list by its index.\n",
    "index = int(input(\"Enter index of the element to remove\"))\n",
    "list_of_int.pop(index)\n",
    "\n",
    "print(\"List of integers after removal of the element at index\", index, \"=\", list_of_int)"
   ]
  },
  {
   "cell_type": "code",
   "execution_count": 42,
   "id": "c5fb4da8-a35c-42e0-8344-41c359efd6ca",
   "metadata": {},
   "outputs": [
    {
     "name": "stdin",
     "output_type": "stream",
     "text": [
      "Enter an element to check its existence 5\n"
     ]
    },
    {
     "name": "stdout",
     "output_type": "stream",
     "text": [
      "The element 5 exists in the list of integers\n"
     ]
    }
   ],
   "source": [
    "# 7. Check if an element exists in the list.\n",
    "element = int(input(\"Enter an element to check its existence\"))\n",
    "\n",
    "if(element in list_of_int):\n",
    "    print(\"The element {} exists in the list of integers\".format(element))\n",
    "else:\n",
    "    print(\"The element {} does not exist in the list of integers\".format(element))"
   ]
  },
  {
   "cell_type": "code",
   "execution_count": 46,
   "id": "651a4b3c-f9e3-45b1-a4e3-79dc4ff054c5",
   "metadata": {},
   "outputs": [
    {
     "name": "stdin",
     "output_type": "stream",
     "text": [
      "Enter an element to search: 5\n"
     ]
    },
    {
     "name": "stdout",
     "output_type": "stream",
     "text": [
      "Index of the element 5 in the list = 2\n"
     ]
    }
   ],
   "source": [
    "# 8. Find the index of the first occurrence of an element in a list.\n",
    "element = int(input(\"Enter an element to search:\"))\n",
    "\n",
    "print(\"Index of the element {} in the list = {}\".format(element, list_of_int.index(element)))"
   ]
  },
  {
   "cell_type": "code",
   "execution_count": 50,
   "id": "4b7bcf8a-b17f-4633-89c3-ed3c5e124490",
   "metadata": {},
   "outputs": [
    {
     "name": "stdin",
     "output_type": "stream",
     "text": [
      "Enter an element: 5\n"
     ]
    },
    {
     "name": "stdout",
     "output_type": "stream",
     "text": [
      "The number of times element 5 occurs in the list = 1\n"
     ]
    }
   ],
   "source": [
    "# 9. Count the occurrences of an element in a list.\n",
    "element = int(input(\"Enter an element:\"))\n",
    "\n",
    "count = 0\n",
    "for i in list_of_int:\n",
    "    if(element == i):\n",
    "        count += 1\n",
    "\n",
    "print(\"The number of times element {} occurs in the list = {}\".format(element, count))"
   ]
  },
  {
   "cell_type": "code",
   "execution_count": 51,
   "id": "cf2f9819-f4dd-414a-aa8c-44409d991f8c",
   "metadata": {},
   "outputs": [
    {
     "name": "stdout",
     "output_type": "stream",
     "text": [
      "Reversed List = [102938, 10, 9, 8, 7, 6, 5, 2, 1]\n"
     ]
    }
   ],
   "source": [
    "# 10. Reverse the order of elements in a list.\n",
    "reversed_list = list_of_int[::-1]\n",
    "\n",
    "print(\"Reversed List =\", reversed_list)"
   ]
  },
  {
   "cell_type": "code",
   "execution_count": 54,
   "id": "a0697d2e-5375-4946-a426-26f22ec9b1b6",
   "metadata": {},
   "outputs": [
    {
     "name": "stdout",
     "output_type": "stream",
     "text": [
      "Sorted List in ascending order = [1, 2, 5, 6, 7, 8, 9, 10, 102938]\n"
     ]
    }
   ],
   "source": [
    "# 11. Sort a list in ascending order.\n",
    "list_of_int.sort()\n",
    "\n",
    "print(\"Sorted List in ascending order =\", list_of_int)"
   ]
  },
  {
   "cell_type": "code",
   "execution_count": 55,
   "id": "ac84ad7f-8f6a-46ea-bd6e-de65cf7db3aa",
   "metadata": {},
   "outputs": [
    {
     "name": "stdout",
     "output_type": "stream",
     "text": [
      "Sorted List in descending order = [102938, 10, 9, 8, 7, 6, 5, 2, 1]\n"
     ]
    }
   ],
   "source": [
    "# 12. Sort a list in descending order.\n",
    "list_of_int.sort(reverse = True)\n",
    "\n",
    "print(\"Sorted List in descending order =\", list_of_int)"
   ]
  },
  {
   "cell_type": "code",
   "execution_count": 57,
   "id": "94faed86-2486-4d3d-8ed2-d5292688319b",
   "metadata": {},
   "outputs": [
    {
     "name": "stdout",
     "output_type": "stream",
     "text": [
      "List of even numbers from 1 to 20 = [2, 4, 6, 8, 10, 12, 14, 16, 18, 20]\n"
     ]
    }
   ],
   "source": [
    "# 13. Create a list of even numbers from 1 to 20.\n",
    "list_of_even = []\n",
    "\n",
    "for i in range(1, 21):\n",
    "    if(i % 2 == 0):\n",
    "        list_of_even.append(i)\n",
    "        \n",
    "print(\"List of even numbers from 1 to 20 =\", list_of_even)"
   ]
  },
  {
   "cell_type": "code",
   "execution_count": 58,
   "id": "675fd4a5-7b2c-4d91-8d90-783048afc4fb",
   "metadata": {},
   "outputs": [
    {
     "name": "stdout",
     "output_type": "stream",
     "text": [
      "List of odd numbers from 1 to 20 = [1, 3, 5, 7, 9, 11, 13, 15, 17, 19]\n"
     ]
    }
   ],
   "source": [
    "# 14. Create a list of odd numbers from 1 to 20.\n",
    "list_of_odd = []\n",
    "\n",
    "for i in range(1, 21):\n",
    "    if(i % 2 == 1):\n",
    "        list_of_odd.append(i)\n",
    "        \n",
    "print(\"List of odd numbers from 1 to 20 =\", list_of_odd)"
   ]
  },
  {
   "cell_type": "code",
   "execution_count": 60,
   "id": "2f1742e5-469c-45cc-9e30-f1d4b8258d85",
   "metadata": {},
   "outputs": [
    {
     "name": "stdout",
     "output_type": "stream",
     "text": [
      "Sum of elements = 102986\n"
     ]
    }
   ],
   "source": [
    "# 15. Find the sum of all elements in a list.\n",
    "s = 0\n",
    "\n",
    "for l in list_of_int:\n",
    "    s += l\n",
    "    \n",
    "print(\"Sum of elements =\", s)"
   ]
  },
  {
   "cell_type": "code",
   "execution_count": 62,
   "id": "ea5d1ece-173f-4542-8087-9887a0085168",
   "metadata": {},
   "outputs": [
    {
     "name": "stdout",
     "output_type": "stream",
     "text": [
      "Maximum element in the list = 102938\n"
     ]
    }
   ],
   "source": [
    "# 16. Find the maximum value in a list.\n",
    "m = -float(\"inf\")\n",
    "\n",
    "for l in list_of_int:\n",
    "    if(l > m):\n",
    "        m = l\n",
    "        \n",
    "print(\"Maximum element in the list =\", m)"
   ]
  },
  {
   "cell_type": "code",
   "execution_count": 63,
   "id": "67c676c5-6638-4c15-8625-466aaca67b18",
   "metadata": {},
   "outputs": [
    {
     "name": "stdout",
     "output_type": "stream",
     "text": [
      "Minimum element in the list = 1\n"
     ]
    }
   ],
   "source": [
    "# 17. Find the minimum value in a list.\n",
    "m = float(\"inf\")\n",
    "\n",
    "for l in list_of_int:\n",
    "    if(l < m):\n",
    "        m = l\n",
    "        \n",
    "print(\"Minimum element in the list =\", m)"
   ]
  },
  {
   "cell_type": "code",
   "execution_count": 65,
   "id": "5b1ae93f-a50c-4ae3-840a-51bcb71547ef",
   "metadata": {},
   "outputs": [
    {
     "name": "stdout",
     "output_type": "stream",
     "text": [
      "List of squares of numbers from 1 to 10 = [1, 4, 9, 16, 25, 36, 49, 64, 81, 100]\n"
     ]
    }
   ],
   "source": [
    "# 18. Create a list of squares of numbers from 1 to 10.\n",
    "list_of_squares = []\n",
    "\n",
    "for i in range(1, 11):\n",
    "    list_of_squares.append(i**2)\n",
    "\n",
    "print(\"List of squares of numbers from 1 to 10 =\", list_of_squares)"
   ]
  },
  {
   "cell_type": "code",
   "execution_count": 69,
   "id": "9e77730e-1eb8-4e0f-854d-3e75cac439b6",
   "metadata": {},
   "outputs": [
    {
     "name": "stdout",
     "output_type": "stream",
     "text": [
      "List of random numbers = [1, 44, 76, 34, 40, 60, 26, 75, 21, 89]\n"
     ]
    }
   ],
   "source": [
    "# 19. Create a list of random numbers.\n",
    "list_of_randoms = []\n",
    "\n",
    "for _ in range(10):\n",
    "    list_of_randoms.append(random.randint(1, 100))\n",
    "\n",
    "print(\"List of random numbers =\", list_of_randoms)"
   ]
  },
  {
   "cell_type": "code",
   "execution_count": 72,
   "id": "aedd13f1-73fe-4723-802c-f41f4d4d419f",
   "metadata": {},
   "outputs": [
    {
     "name": "stdout",
     "output_type": "stream",
     "text": [
      "List after removal of duplicates = ['a', 'b', 'c']\n"
     ]
    }
   ],
   "source": [
    "# 20. Remove duplicates from a list.\n",
    "mylist = [\"a\", \"b\", \"a\", \"c\", \"c\"]\n",
    "result = []\n",
    "\n",
    "for l in mylist:\n",
    "    if(l not in result):\n",
    "        result.append(l)\n",
    "\n",
    "print(\"List after removal of duplicates =\", result)"
   ]
  },
  {
   "cell_type": "code",
   "execution_count": 3,
   "id": "d29b5054-8f3e-4b47-88a1-a6e8a2b33503",
   "metadata": {},
   "outputs": [
    {
     "name": "stdout",
     "output_type": "stream",
     "text": [
      "Common elements in both lists = {4, 6}\n"
     ]
    }
   ],
   "source": [
    "# 21. Find the common elements between two lists.\n",
    "list1 = [1, 4, 6, 8, 10]\n",
    "list2 = [3, 2, 5, 4, 6]\n",
    "\n",
    "print(\"Common elements in both lists =\", set(list1).intersection(set(list2)))"
   ]
  },
  {
   "cell_type": "code",
   "execution_count": 4,
   "id": "05994ad2-080b-4146-ab03-18c18182f1b1",
   "metadata": {},
   "outputs": [
    {
     "name": "stdout",
     "output_type": "stream",
     "text": [
      "Difference of two lists =  {8, 1, 10}\n"
     ]
    }
   ],
   "source": [
    "# 22. Find the difference between two lists.\n",
    "print(\"Difference of two lists = \", set(list1) - set(list2))"
   ]
  },
  {
   "cell_type": "code",
   "execution_count": 6,
   "id": "366fa57d-9661-4411-9b97-9c7956862f08",
   "metadata": {},
   "outputs": [
    {
     "name": "stdout",
     "output_type": "stream",
     "text": [
      "Merged list = [1, 4, 6, 8, 10, 3, 2, 5, 4, 6]\n"
     ]
    }
   ],
   "source": [
    "# 23. Merge two lists.\n",
    "merged_lists = list1 + list2\n",
    "print(\"Merged list =\", merged_lists)"
   ]
  },
  {
   "cell_type": "code",
   "execution_count": 9,
   "id": "70f419c2-910c-42a9-ae5d-6fbd932b78b1",
   "metadata": {},
   "outputs": [
    {
     "name": "stdout",
     "output_type": "stream",
     "text": [
      "Multiplied list = [2, 8, 12, 16, 20]\n"
     ]
    }
   ],
   "source": [
    "# 24. Multiply all elements in a list by 2.\n",
    "mul_list = [2 * l for l in list1]\n",
    "\n",
    "print(\"Multiplied list =\", mul_list)"
   ]
  },
  {
   "cell_type": "code",
   "execution_count": 10,
   "id": "47578e15-40a2-40b4-855b-5dfd675ef47b",
   "metadata": {},
   "outputs": [
    {
     "name": "stdout",
     "output_type": "stream",
     "text": [
      "Filtered numbers = [4, 6, 8, 10]\n"
     ]
    }
   ],
   "source": [
    "# 25. Filter out all even numbers from a list.\n",
    "result = []\n",
    "\n",
    "for l in list1:\n",
    "    if(l%2 == 0):\n",
    "        result.append(l)\n",
    "        \n",
    "print(\"Filtered numbers =\", result)"
   ]
  },
  {
   "cell_type": "code",
   "execution_count": 12,
   "id": "0423db4e-ad1e-4d34-b7c1-1842835f9ca7",
   "metadata": {},
   "outputs": [
    {
     "name": "stdout",
     "output_type": "stream",
     "text": [
      "Converted list = [1, 2, 3]\n"
     ]
    }
   ],
   "source": [
    "# 26. Convert a list of strings to a list of integers.\n",
    "list1 = ['1', '2', '3']\n",
    "list1 = [int(l) for l in list1]\n",
    "\n",
    "print(\"Converted list =\", list1)"
   ]
  },
  {
   "cell_type": "code",
   "execution_count": 13,
   "id": "77e8f634-aae5-469b-b907-948028850616",
   "metadata": {},
   "outputs": [
    {
     "name": "stdout",
     "output_type": "stream",
     "text": [
      "Converted list = ['1', '2', '3']\n"
     ]
    }
   ],
   "source": [
    "# 27. Convert a list of integers to a list of strings.\n",
    "list1 = [1, 2, 3]\n",
    "list1 = [str(l) for l in list1]\n",
    "\n",
    "print(\"Converted list =\", list1)"
   ]
  },
  {
   "cell_type": "code",
   "execution_count": 15,
   "id": "45117947-675b-4a0a-9569-5f1310b81c5d",
   "metadata": {},
   "outputs": [
    {
     "name": "stdout",
     "output_type": "stream",
     "text": [
      "Flattened list = [1, 2, 3, 4, 5, 6, 7, 8, 9]\n"
     ]
    }
   ],
   "source": [
    "# 28. Flatten a nested list.\n",
    "list1 = [[1, 2, 3], [4, 5, 6], [7, 8, 9]]\n",
    "list1 = [l for l1 in list1 for l in l1]\n",
    "\n",
    "print(\"Flattened list =\", list1)"
   ]
  },
  {
   "cell_type": "code",
   "execution_count": 20,
   "id": "891fcedf-24fc-4510-aab7-39be1da0c444",
   "metadata": {},
   "outputs": [
    {
     "name": "stdout",
     "output_type": "stream",
     "text": [
      "Fibonacci numbers = [0, 1, 1, 2, 3, 5, 8, 13, 21, 34]\n"
     ]
    }
   ],
   "source": [
    "# 29. Create a list of the first 10 Fibonacci numbers.\n",
    "a = 0\n",
    "b = 1\n",
    "result = [a, b]\n",
    "\n",
    "for i in range(8):\n",
    "    a, b = b, a + b\n",
    "    result.append(b)\n",
    "    \n",
    "print(\"Fibonacci numbers =\", result)"
   ]
  },
  {
   "cell_type": "code",
   "execution_count": 26,
   "id": "a6c87513-b2b6-4669-9504-2a4ba3f1b05f",
   "metadata": {},
   "outputs": [
    {
     "name": "stdout",
     "output_type": "stream",
     "text": [
      "The list is sorted in ascending order\n"
     ]
    }
   ],
   "source": [
    "# 30. Check if a list is sorted.\n",
    "list1 = [1, 2, 3, 4, 5]\n",
    "r = True\n",
    "\n",
    "for i, l in enumerate(list1):\n",
    "    if(i+1 < len(list1) and list1[i+1] < list1[i]):\n",
    "        print(\"The list is not sorted in ascending order\")\n",
    "        r = False\n",
    "        \n",
    "if(r):\n",
    "    print(\"The list is sorted in ascending order\")"
   ]
  },
  {
   "cell_type": "code",
   "execution_count": 38,
   "id": "e0c9cf69-ad34-46c7-afd2-e8ff16c688e9",
   "metadata": {},
   "outputs": [
    {
     "name": "stdout",
     "output_type": "stream",
     "text": [
      "Rotated list = [4, 5, 1, 2, 3]\n"
     ]
    }
   ],
   "source": [
    "# 31. Rotate a list to the left by `n` positions.\n",
    "list1 = [1, 2, 3, 4, 5]\n",
    "n = 3\n",
    "\n",
    "for _ in range(n):\n",
    "    ele = list1.pop(0)\n",
    "    list1.append(ele)\n",
    "\n",
    "print(\"Rotated list =\", list1)"
   ]
  },
  {
   "cell_type": "code",
   "execution_count": 40,
   "id": "a8b84bbf-583c-44fc-9088-a94c5bdd49d3",
   "metadata": {},
   "outputs": [
    {
     "name": "stdout",
     "output_type": "stream",
     "text": [
      "Rotated list = [3, 4, 5, 1, 2]\n"
     ]
    }
   ],
   "source": [
    "# 32. Rotate a list to the right by 'n' positions.\n",
    "list1 = [1, 2, 3, 4, 5]\n",
    "for _ in range(n):\n",
    "    ele = list1.pop(-1)\n",
    "    list1 = [ele] + list1\n",
    "    \n",
    "print(\"Rotated list =\", list1)"
   ]
  },
  {
   "cell_type": "code",
   "execution_count": 45,
   "id": "0aa5dbc3-038d-4acb-92cd-111478fafd13",
   "metadata": {},
   "outputs": [
    {
     "name": "stdout",
     "output_type": "stream",
     "text": [
      "List of prime numbers = [2, 3, 5, 7, 11, 13, 17, 19, 23, 29, 31, 37, 41, 43, 47]\n"
     ]
    }
   ],
   "source": [
    "# 33. Create a list of prime numbers up to 50.\n",
    "def check_prime(user_input):\n",
    "    is_prime = True\n",
    "    for i in range(2, int(user_input)):\n",
    "        if int(user_input) % i == 0 :\n",
    "            is_prime = False\n",
    "            break\n",
    "    \n",
    "    return is_prime\n",
    "\n",
    "list1 = []\n",
    "for n in range(2, 51):\n",
    "    is_prime = check_prime(n)\n",
    "    if is_prime:\n",
    "        list1.append(n)\n",
    "\n",
    "print(\"List of prime numbers =\", list1)"
   ]
  },
  {
   "cell_type": "code",
   "execution_count": 51,
   "id": "2f4df4e4-b070-437c-a252-64341a1036e7",
   "metadata": {},
   "outputs": [
    {
     "name": "stdout",
     "output_type": "stream",
     "text": [
      "Chunked list = [[1, 2], [3, 4], [5, 6], [7, 8]]\n"
     ]
    }
   ],
   "source": [
    "# 34. Split a list into chunks of size `n`.\n",
    "list1 = [1, 2, 3, 4, 5, 6, 7, 8, 9, 10]\n",
    "n = 2\n",
    "\n",
    "list1 = [list1[i-2:i] for i in range(n, len(list1), 2)]\n",
    "print(\"Chunked list =\", list1)"
   ]
  },
  {
   "cell_type": "code",
   "execution_count": 54,
   "id": "a443c77e-b902-4ef8-9fe1-661cc12397f1",
   "metadata": {},
   "outputs": [
    {
     "name": "stdout",
     "output_type": "stream",
     "text": [
      "Second Max = 9\n"
     ]
    }
   ],
   "source": [
    "# 35. Find the second largest number in a list.\n",
    "list1 = [1, 2, 3, 4, 5, 6, 7, 8, 9, 10]\n",
    "first_max = list1[0]\n",
    "second_max = list1[0]\n",
    "\n",
    "for l in list1:\n",
    "    if(l > first_max):\n",
    "        temp = first_max\n",
    "        first_max = l\n",
    "        second_max = temp\n",
    "        \n",
    "print(\"Second Max =\", second_max)"
   ]
  },
  {
   "cell_type": "code",
   "execution_count": 59,
   "id": "d8677dfa-9506-4780-850a-325606c692ed",
   "metadata": {},
   "outputs": [
    {
     "name": "stdout",
     "output_type": "stream",
     "text": [
      "Squared list = [1, 4, 9, 16, 25, 36, 49, 64, 81, 100]\n"
     ]
    }
   ],
   "source": [
    "# 36. Replace every element in a list with its square.\n",
    "list1 = [1, 2, 3, 4, 5, 6, 7, 8, 9, 10]\n",
    "list1 = [l**2 for l in list1]\n",
    "\n",
    "print(\"Squared list =\", list1)"
   ]
  },
  {
   "cell_type": "code",
   "execution_count": null,
   "id": "f645aeff-09c3-452e-98a7-5c9f2466cca8",
   "metadata": {},
   "outputs": [],
   "source": [
    "# 37. Convert a list to a dictionary where list elements become keys and their indices become values.\n"
   ]
  }
 ],
 "metadata": {
  "kernelspec": {
   "display_name": "Python 3 (ipykernel)",
   "language": "python",
   "name": "python3"
  },
  "language_info": {
   "codemirror_mode": {
    "name": "ipython",
    "version": 3
   },
   "file_extension": ".py",
   "mimetype": "text/x-python",
   "name": "python",
   "nbconvert_exporter": "python",
   "pygments_lexer": "ipython3",
   "version": "3.10.8"
  }
 },
 "nbformat": 4,
 "nbformat_minor": 5
}
