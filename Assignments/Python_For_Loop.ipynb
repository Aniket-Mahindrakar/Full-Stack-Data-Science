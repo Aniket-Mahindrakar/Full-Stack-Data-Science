{
 "cells": [
  {
   "cell_type": "markdown",
   "id": "33b3e8ce-d1bb-425a-8381-f58836f62258",
   "metadata": {},
   "source": [
    "# Basic Level"
   ]
  },
  {
   "cell_type": "code",
   "execution_count": 1,
   "id": "21ed3ea5-7d54-4e9a-8c48-19836c853fa3",
   "metadata": {},
   "outputs": [],
   "source": [
    "import math\n",
    "import re"
   ]
  },
  {
   "cell_type": "code",
   "execution_count": 2,
   "id": "c793107c-ea54-4af8-a626-acaaa55f4d4f",
   "metadata": {},
   "outputs": [
    {
     "name": "stdout",
     "output_type": "stream",
     "text": [
      "1\n",
      "2\n",
      "3\n",
      "4\n",
      "5\n",
      "6\n",
      "7\n",
      "8\n",
      "9\n",
      "10\n"
     ]
    }
   ],
   "source": [
    "# 1. Write a Python program to print the numbers from 1 to 10 using a `for` loop.\n",
    "for n in range(1, 11):\n",
    "    print(n)"
   ]
  },
  {
   "cell_type": "code",
   "execution_count": 3,
   "id": "7c4ae8f4-eefc-45b1-939e-c4fdf263773a",
   "metadata": {},
   "outputs": [
    {
     "name": "stdout",
     "output_type": "stream",
     "text": [
      "Sum of values in the list =  15\n"
     ]
    }
   ],
   "source": [
    "# 2. Create a program that calculates the sum of all numbers in a list using a `for` loop.\n",
    "li = [1, 2, 3, 4, 5]\n",
    "s = 0\n",
    "for l in li:\n",
    "    s += l\n",
    "\n",
    "print(\"Sum of values in the list = \", str(s))"
   ]
  },
  {
   "cell_type": "code",
   "execution_count": 4,
   "id": "bea52245-a508-472e-a6a5-277e9224062b",
   "metadata": {},
   "outputs": [
    {
     "name": "stdout",
     "output_type": "stream",
     "text": [
      "String in reverse order = !dlrow olleh"
     ]
    }
   ],
   "source": [
    "# 3. Write a program to print the characters of a string in reverse order using a `for` loop.\n",
    "string = \"hello world!\"\n",
    "\n",
    "print(\"String in reverse order = \", end=\"\")\n",
    "for s in string[::-1]:\n",
    "    print(s, end=\"\")"
   ]
  },
  {
   "cell_type": "code",
   "execution_count": 5,
   "id": "2784302f-4901-4235-8e47-f7bbc3a9ba2a",
   "metadata": {},
   "outputs": [
    {
     "name": "stdin",
     "output_type": "stream",
     "text": [
      "Enter a number: 5\n"
     ]
    },
    {
     "name": "stdout",
     "output_type": "stream",
     "text": [
      "5! = 120\n"
     ]
    }
   ],
   "source": [
    "# 4. Develop a program that finds the factorial of a given number using a `for` loop.\n",
    "f = 1\n",
    "n = int(input(\"Enter a number:\"))\n",
    "\n",
    "for i in range(2, n+1):\n",
    "    f *= i\n",
    "    \n",
    "print(f\"{n}! = {f}\")"
   ]
  },
  {
   "cell_type": "code",
   "execution_count": 6,
   "id": "fc3b6520-4fce-4421-a7cb-fd5dfdfcadd6",
   "metadata": {},
   "outputs": [
    {
     "name": "stdin",
     "output_type": "stream",
     "text": [
      "Enter a number: 5\n"
     ]
    },
    {
     "name": "stdout",
     "output_type": "stream",
     "text": [
      "5 * 1 = 5\n",
      "5 * 2 = 10\n",
      "5 * 3 = 15\n",
      "5 * 4 = 20\n",
      "5 * 5 = 25\n",
      "5 * 6 = 30\n",
      "5 * 7 = 35\n",
      "5 * 8 = 40\n",
      "5 * 9 = 45\n",
      "5 * 10 = 50\n"
     ]
    }
   ],
   "source": [
    "# 5. Create a program to print the multiplication table of a given number using a `for` loop.\n",
    "n = int(input(\"Enter a number:\"))\n",
    "\n",
    "for i in range(1, 11):\n",
    "    print(f\"{n} * {i} = {n*i}\")"
   ]
  },
  {
   "cell_type": "code",
   "execution_count": 7,
   "id": "574948d8-123f-4651-a4dc-259d25c807c8",
   "metadata": {},
   "outputs": [
    {
     "name": "stdout",
     "output_type": "stream",
     "text": [
      "Number of even numbers = 4\n",
      "Number of odd numbers = 3\n"
     ]
    }
   ],
   "source": [
    "# 6. Write a program that counts the number of even and odd numbers in a list using a `for` loop.\n",
    "li = [2, 3, 4, 5, 6, 7, 8]\n",
    "\n",
    "even = 0\n",
    "odd = 0\n",
    "for l in li:\n",
    "    if(l%2 == 0):\n",
    "        even += 1\n",
    "    else:\n",
    "        odd += 1\n",
    "\n",
    "print(f\"Number of even numbers = {even}\")\n",
    "print(f\"Number of odd numbers = {odd}\")"
   ]
  },
  {
   "cell_type": "code",
   "execution_count": 8,
   "id": "6f1803ca-6f9d-45d3-958c-e7e6dc2dde0c",
   "metadata": {},
   "outputs": [
    {
     "name": "stdout",
     "output_type": "stream",
     "text": [
      "Squares of numbers from 1 to 5:\n",
      "1^2 = 1\n",
      "2^2 = 4\n",
      "3^2 = 9\n",
      "4^2 = 16\n",
      "5^2 = 25\n"
     ]
    }
   ],
   "source": [
    "# 7. Develop a program that prints the squares of numbers from 1 to 5 using a `for` loop.\n",
    "print(\"Squares of numbers from 1 to 5:\")\n",
    "for i in range(1, 6):\n",
    "    print(f\"{i}^2 = {i**2}\")"
   ]
  },
  {
   "cell_type": "code",
   "execution_count": 9,
   "id": "5484add8-c528-40e1-bb19-9e3246286184",
   "metadata": {},
   "outputs": [
    {
     "name": "stdin",
     "output_type": "stream",
     "text": [
      "Enter a string: I enjoy coding on pw skills\n"
     ]
    },
    {
     "name": "stdout",
     "output_type": "stream",
     "text": [
      "Length of the string = 27\n"
     ]
    }
   ],
   "source": [
    "# 8. Create a program to find the length of a string without using the `len()` function.\n",
    "string = input(\"Enter a string:\")\n",
    "count = 0\n",
    "for s in string:\n",
    "    count += 1\n",
    "\n",
    "print(f\"Length of the string = {count}\")"
   ]
  },
  {
   "cell_type": "code",
   "execution_count": 10,
   "id": "8c478ab6-3459-4c0f-a63c-47ead106eecb",
   "metadata": {},
   "outputs": [
    {
     "name": "stdout",
     "output_type": "stream",
     "text": [
      "Average of the list of numbers = 5.0\n"
     ]
    }
   ],
   "source": [
    "# 9. Write a program that calculates the average of a list of numbers using a `for` loop.\n",
    "li = [2, 3, 4, 5, 6, 7, 8]\n",
    "s = 0\n",
    "count = 0\n",
    "\n",
    "for l in li:\n",
    "    s += l\n",
    "    count += 1\n",
    "\n",
    "print(f\"Average of the list of numbers = {s / count}\")"
   ]
  },
  {
   "cell_type": "code",
   "execution_count": 11,
   "id": "c977940d-da8b-45be-956a-f7b06b2b5835",
   "metadata": {},
   "outputs": [
    {
     "name": "stdin",
     "output_type": "stream",
     "text": [
      "Enter a number n: 10\n"
     ]
    },
    {
     "name": "stdout",
     "output_type": "stream",
     "text": [
      "\n",
      "Fibonacci sequence:\n",
      "0, 1, 1, 2, 3, 5, 8, 13, 21, 34"
     ]
    }
   ],
   "source": [
    "# 10. Develop a program that prints the first `n` Fibonacci numbers using a `for` loop.\n",
    "a = 0\n",
    "b = 1\n",
    "n = int(input(\"Enter a number n:\"))\n",
    "\n",
    "print(f\"\\nFibonacci sequence:\\n{a}, {b}\", end=\"\")\n",
    "for i in range(n-2):\n",
    "    print(f\", {a + b}\", end = \"\")\n",
    "    a, b = b, a + b\n"
   ]
  },
  {
   "cell_type": "markdown",
   "id": "f0611654-9b1a-4f50-b4f9-9ff3f6643f7e",
   "metadata": {},
   "source": [
    "# Intermediate Level"
   ]
  },
  {
   "cell_type": "code",
   "execution_count": 12,
   "id": "30010b1e-8554-4c07-89bf-6a80c90eeee2",
   "metadata": {},
   "outputs": [
    {
     "name": "stdout",
     "output_type": "stream",
     "text": [
      "The array contains duplicate integers.\n"
     ]
    }
   ],
   "source": [
    "# 11. Write a program to check if a given list contains any duplicates using a `for` loop.\n",
    "l = [7, 6, 5, 5, 2, 1, 0, 9]\n",
    "\n",
    "l.sort()\n",
    "\n",
    "for i in range(len(l)):\n",
    "    if(l[i] == l[i+1]):\n",
    "        print(\"The array contains duplicate integers.\")\n",
    "        break\n",
    "\n",
    "if(i == len(l)):\n",
    "    print(\"The array does not contain duplicate integers.\")"
   ]
  },
  {
   "cell_type": "code",
   "execution_count": 13,
   "id": "452d695c-26c0-4e4d-a96f-d8715117778c",
   "metadata": {},
   "outputs": [
    {
     "name": "stdin",
     "output_type": "stream",
     "text": [
      "Enter a integer value: 1000\n"
     ]
    },
    {
     "name": "stdout",
     "output_type": "stream",
     "text": [
      "2 is a prime number\n",
      "3 is a prime number\n",
      "5 is a prime number\n",
      "7 is a prime number\n",
      "11 is a prime number\n",
      "13 is a prime number\n",
      "17 is a prime number\n",
      "19 is a prime number\n",
      "23 is a prime number\n",
      "29 is a prime number\n",
      "31 is a prime number\n",
      "37 is a prime number\n",
      "41 is a prime number\n",
      "43 is a prime number\n",
      "47 is a prime number\n",
      "53 is a prime number\n",
      "59 is a prime number\n",
      "61 is a prime number\n",
      "67 is a prime number\n",
      "71 is a prime number\n",
      "73 is a prime number\n",
      "79 is a prime number\n",
      "83 is a prime number\n",
      "89 is a prime number\n",
      "97 is a prime number\n",
      "101 is a prime number\n",
      "103 is a prime number\n",
      "107 is a prime number\n",
      "109 is a prime number\n",
      "113 is a prime number\n",
      "127 is a prime number\n",
      "131 is a prime number\n",
      "137 is a prime number\n",
      "139 is a prime number\n",
      "149 is a prime number\n",
      "151 is a prime number\n",
      "157 is a prime number\n",
      "163 is a prime number\n",
      "167 is a prime number\n",
      "173 is a prime number\n",
      "179 is a prime number\n",
      "181 is a prime number\n",
      "191 is a prime number\n",
      "193 is a prime number\n",
      "197 is a prime number\n",
      "199 is a prime number\n",
      "211 is a prime number\n",
      "223 is a prime number\n",
      "227 is a prime number\n",
      "229 is a prime number\n",
      "233 is a prime number\n",
      "239 is a prime number\n",
      "241 is a prime number\n",
      "251 is a prime number\n",
      "257 is a prime number\n",
      "263 is a prime number\n",
      "269 is a prime number\n",
      "271 is a prime number\n",
      "277 is a prime number\n",
      "281 is a prime number\n",
      "283 is a prime number\n",
      "293 is a prime number\n",
      "307 is a prime number\n",
      "311 is a prime number\n",
      "313 is a prime number\n",
      "317 is a prime number\n",
      "331 is a prime number\n",
      "337 is a prime number\n",
      "347 is a prime number\n",
      "349 is a prime number\n",
      "353 is a prime number\n",
      "359 is a prime number\n",
      "367 is a prime number\n",
      "373 is a prime number\n",
      "379 is a prime number\n",
      "383 is a prime number\n",
      "389 is a prime number\n",
      "397 is a prime number\n",
      "401 is a prime number\n",
      "409 is a prime number\n",
      "419 is a prime number\n",
      "421 is a prime number\n",
      "431 is a prime number\n",
      "433 is a prime number\n",
      "439 is a prime number\n",
      "443 is a prime number\n",
      "449 is a prime number\n",
      "457 is a prime number\n",
      "461 is a prime number\n",
      "463 is a prime number\n",
      "467 is a prime number\n",
      "479 is a prime number\n",
      "487 is a prime number\n",
      "491 is a prime number\n",
      "499 is a prime number\n",
      "503 is a prime number\n",
      "509 is a prime number\n",
      "521 is a prime number\n",
      "523 is a prime number\n",
      "541 is a prime number\n",
      "547 is a prime number\n",
      "557 is a prime number\n",
      "563 is a prime number\n",
      "569 is a prime number\n",
      "571 is a prime number\n",
      "577 is a prime number\n",
      "587 is a prime number\n",
      "593 is a prime number\n",
      "599 is a prime number\n",
      "601 is a prime number\n",
      "607 is a prime number\n",
      "613 is a prime number\n",
      "617 is a prime number\n",
      "619 is a prime number\n",
      "631 is a prime number\n",
      "641 is a prime number\n",
      "643 is a prime number\n",
      "647 is a prime number\n",
      "653 is a prime number\n",
      "659 is a prime number\n",
      "661 is a prime number\n",
      "673 is a prime number\n",
      "677 is a prime number\n",
      "683 is a prime number\n",
      "691 is a prime number\n",
      "701 is a prime number\n",
      "709 is a prime number\n",
      "719 is a prime number\n",
      "727 is a prime number\n",
      "733 is a prime number\n",
      "739 is a prime number\n",
      "743 is a prime number\n",
      "751 is a prime number\n",
      "757 is a prime number\n",
      "761 is a prime number\n",
      "769 is a prime number\n",
      "773 is a prime number\n",
      "787 is a prime number\n",
      "797 is a prime number\n",
      "809 is a prime number\n",
      "811 is a prime number\n",
      "821 is a prime number\n",
      "823 is a prime number\n",
      "827 is a prime number\n",
      "829 is a prime number\n",
      "839 is a prime number\n",
      "853 is a prime number\n",
      "857 is a prime number\n",
      "859 is a prime number\n",
      "863 is a prime number\n",
      "877 is a prime number\n",
      "881 is a prime number\n",
      "883 is a prime number\n",
      "887 is a prime number\n",
      "907 is a prime number\n",
      "911 is a prime number\n",
      "919 is a prime number\n",
      "929 is a prime number\n",
      "937 is a prime number\n",
      "941 is a prime number\n",
      "947 is a prime number\n",
      "953 is a prime number\n",
      "967 is a prime number\n",
      "971 is a prime number\n",
      "977 is a prime number\n",
      "983 is a prime number\n",
      "991 is a prime number\n",
      "997 is a prime number\n"
     ]
    }
   ],
   "source": [
    "# 12. Create a program that prints the prime numbers in a given range using a `for` loop.\n",
    "def isPrime(n):\n",
    "    # Corner case\n",
    "    if (n <= 1):\n",
    "        return False\n",
    " \n",
    "    # Check from 2 to sqrt(n)\n",
    "    for i in range(2, int(math.sqrt(n))+1):\n",
    "        if (n % i == 0):\n",
    "            return False\n",
    " \n",
    "    return True\n",
    "\n",
    "r = int(input(\"Enter a integer value:\"))\n",
    "for i in range(1, r+1):\n",
    "    if(isPrime(i)):\n",
    "        print(str(i) + \" is a prime number\")"
   ]
  },
  {
   "cell_type": "code",
   "execution_count": 14,
   "id": "b13a0f6a-1ae1-471e-8f63-82e53064ef09",
   "metadata": {},
   "outputs": [
    {
     "name": "stdin",
     "output_type": "stream",
     "text": [
      "Enter a string: I enjoy coding on pw skills\n"
     ]
    },
    {
     "name": "stdout",
     "output_type": "stream",
     "text": [
      "Number of vowels in the string = 6\n"
     ]
    }
   ],
   "source": [
    "# 13. Develop a program that counts the number of vowels in a string using a `for` loop.\n",
    "vowels = {\"a\", \"e\", \"i\", \"o\", \"u\"}\n",
    "string = input(\"Enter a string:\")\n",
    "count = 0\n",
    "for s in string:\n",
    "    if(s in vowels):\n",
    "        count += 1\n",
    "\n",
    "print(\"Number of vowels in the string =\", count)"
   ]
  },
  {
   "cell_type": "code",
   "execution_count": 15,
   "id": "520c268b-fb1d-4e1a-b993-42c2dfe4572d",
   "metadata": {},
   "outputs": [
    {
     "name": "stdout",
     "output_type": "stream",
     "text": [
      "Maximum value in the list = 10328\n"
     ]
    }
   ],
   "source": [
    "# 14. Write a program to find the maximum element in a 2D list using a nested `for` loop.\n",
    "list_vals = [[8, 29, 10328], [29, 2], [10, 19, 10283, 293, 273]]\n",
    "max_val = -float(\"inf\")\n",
    "\n",
    "for l in list_vals:\n",
    "    for val in l:\n",
    "        if(val > max_val):\n",
    "            max_val = val\n",
    "            \n",
    "print(\"Maximum value in the list =\", max_val)"
   ]
  },
  {
   "cell_type": "code",
   "execution_count": 16,
   "id": "b962b636-a4fe-436f-856d-6334453f3ad7",
   "metadata": {},
   "outputs": [
    {
     "name": "stdout",
     "output_type": "stream",
     "text": [
      "List values after removal of all occurances of 3 = [2, 93, 33, 34, 2, 2]\n"
     ]
    }
   ],
   "source": [
    "# 15. Create a program that removes all occurrences of a specific element from a list using a `for` loop.\n",
    "list_vals = [3, 2, 93, 33, 34, 2, 3, 3, 2]\n",
    "val = 3\n",
    "count = 0\n",
    "\n",
    "for l in list_vals:\n",
    "    if(l == val):\n",
    "        count += 1\n",
    "\n",
    "for _ in range(count):\n",
    "    list_vals.remove(val)\n",
    "\n",
    "print(\"List values after removal of all occurances of {} = {}\".format(val, list_vals))"
   ]
  },
  {
   "cell_type": "code",
   "execution_count": 17,
   "id": "3a7f450b-3e7f-4d40-a47e-732c6cba8a44",
   "metadata": {},
   "outputs": [
    {
     "name": "stdout",
     "output_type": "stream",
     "text": [
      "Table of 1:\n",
      "1 * 1 = 1\n",
      "1 * 2 = 2\n",
      "1 * 3 = 3\n",
      "1 * 4 = 4\n",
      "1 * 5 = 5\n",
      "1 * 6 = 6\n",
      "1 * 7 = 7\n",
      "1 * 8 = 8\n",
      "1 * 9 = 9\n",
      "1 * 10 = 10\n",
      "\n",
      "Table of 2:\n",
      "2 * 1 = 2\n",
      "2 * 2 = 4\n",
      "2 * 3 = 6\n",
      "2 * 4 = 8\n",
      "2 * 5 = 10\n",
      "2 * 6 = 12\n",
      "2 * 7 = 14\n",
      "2 * 8 = 16\n",
      "2 * 9 = 18\n",
      "2 * 10 = 20\n",
      "\n",
      "Table of 3:\n",
      "3 * 1 = 3\n",
      "3 * 2 = 6\n",
      "3 * 3 = 9\n",
      "3 * 4 = 12\n",
      "3 * 5 = 15\n",
      "3 * 6 = 18\n",
      "3 * 7 = 21\n",
      "3 * 8 = 24\n",
      "3 * 9 = 27\n",
      "3 * 10 = 30\n",
      "\n",
      "Table of 4:\n",
      "4 * 1 = 4\n",
      "4 * 2 = 8\n",
      "4 * 3 = 12\n",
      "4 * 4 = 16\n",
      "4 * 5 = 20\n",
      "4 * 6 = 24\n",
      "4 * 7 = 28\n",
      "4 * 8 = 32\n",
      "4 * 9 = 36\n",
      "4 * 10 = 40\n",
      "\n",
      "Table of 5:\n",
      "5 * 1 = 5\n",
      "5 * 2 = 10\n",
      "5 * 3 = 15\n",
      "5 * 4 = 20\n",
      "5 * 5 = 25\n",
      "5 * 6 = 30\n",
      "5 * 7 = 35\n",
      "5 * 8 = 40\n",
      "5 * 9 = 45\n",
      "5 * 10 = 50\n",
      "\n"
     ]
    }
   ],
   "source": [
    "# 16. Develop a program that generates a multiplication table for numbers from 1 to 5 using a nested `for` loop.\n",
    "for n in range(1, 6):\n",
    "    print(\"Table of {}:\".format(n))\n",
    "    for i in range(1, 11):\n",
    "        print(\"{} * {} = {}\".format(n, i, n*i))\n",
    "        \n",
    "    print()"
   ]
  },
  {
   "cell_type": "code",
   "execution_count": 18,
   "id": "438b723a-80a7-4d18-9bed-c382d346b478",
   "metadata": {},
   "outputs": [
    {
     "name": "stdout",
     "output_type": "stream",
     "text": [
      "Corresponding temperatures in Celsius = [22.5, 12.94, 31.61, 17.61, 26.22, 7.28, 21.33, 35.0, 20.33, 10.11]\n"
     ]
    }
   ],
   "source": [
    "# 17. Write a program that converts a list of Fahrenheit temperatures to Celsius using a `for` loop.\n",
    "temperatures_fahrenheit = [72.5, 55.3, 88.9, 63.7, 79.2, 45.1, 70.4, 95.0, 68.6, 50.2]\n",
    "temperatures_celsius = []\n",
    "\n",
    "for f in temperatures_fahrenheit:\n",
    "    temperatures_celsius.append(round((f - 32) * (5 / 9), 2))\n",
    "    \n",
    "print(\"Corresponding temperatures in Celsius =\", temperatures_celsius)"
   ]
  },
  {
   "cell_type": "code",
   "execution_count": 19,
   "id": "16232198-2f86-4e6b-93b1-d7cb08f7e59a",
   "metadata": {},
   "outputs": [
    {
     "name": "stdout",
     "output_type": "stream",
     "text": [
      "List of common integers in both lists = [43, 73]\n"
     ]
    }
   ],
   "source": [
    "# 18. Create a program to print the common elements from two lists using a `for` loop.\n",
    "list1 = [43, 29, 9, 73, 10]\n",
    "list2 = [23, 43, 92, 73, 21]\n",
    "result = []\n",
    "\n",
    "for l1 in list1:\n",
    "    for l2 in list2:\n",
    "        if(l1 == l2):\n",
    "            result.append(l1)\n",
    "            \n",
    "print(\"List of common integers in both lists =\", result)"
   ]
  },
  {
   "cell_type": "code",
   "execution_count": 20,
   "id": "864be5f3-5a9e-477d-97a3-360b3f7f7335",
   "metadata": {},
   "outputs": [
    {
     "name": "stdout",
     "output_type": "stream",
     "text": [
      "*\n",
      "**\n",
      "***\n",
      "****\n",
      "*****\n"
     ]
    }
   ],
   "source": [
    "# 19. Develop a program that prints the pattern of right-angled triangles using a `for` loop. Use ‘*’ to draw the pattern\n",
    "for i in range(1, 6):\n",
    "    for j in range(1, i+1):\n",
    "        print(\"*\", end = \"\")\n",
    "    print()"
   ]
  },
  {
   "cell_type": "code",
   "execution_count": 21,
   "id": "3faf68f8-c343-4453-b9d1-93a7d5965bc9",
   "metadata": {},
   "outputs": [
    {
     "name": "stdout",
     "output_type": "stream",
     "text": [
      "GCD of numbers 198 and 165 = 33\n"
     ]
    }
   ],
   "source": [
    "# 20. Write a program to find the greatest common divisor (GCD) of two numbers using a `for` loop.\n",
    "a = 198\n",
    "b = 165\n",
    "\n",
    "if a > b:  # define the if condition  \n",
    "    temp = b  \n",
    "else:  \n",
    "    temp = a  \n",
    "for i in range(1, temp + 1):  \n",
    "    if (( a % i == 0) and (b % i == 0 )):  \n",
    "        gcd = i \n",
    "        \n",
    "print(\"GCD of numbers {} and {} = {}\".format(a, b, gcd))"
   ]
  },
  {
   "cell_type": "markdown",
   "id": "fa2c8c18-d048-4695-8a76-3e23f0d8b412",
   "metadata": {},
   "source": [
    "# Advanced Level:"
   ]
  },
  {
   "cell_type": "code",
   "execution_count": 22,
   "id": "a4797387-6fb0-418b-83e0-67d6f839bb1f",
   "metadata": {},
   "outputs": [
    {
     "name": "stdout",
     "output_type": "stream",
     "text": [
      "Sum of the digits in the list = 276\n"
     ]
    }
   ],
   "source": [
    "# 21. Create a program that calculates the sum of the digits of numbers in a list using a list comprehension.\n",
    "list_vals = [76, 23, 23, 43, 9, 102]\n",
    "s = 0\n",
    "\n",
    "for n in list_vals:\n",
    "    s += n\n",
    "    \n",
    "print(\"Sum of the digits in the list =\", s)"
   ]
  },
  {
   "cell_type": "code",
   "execution_count": 23,
   "id": "c00f2a8f-5466-4fb1-844d-b6afbe0826e3",
   "metadata": {},
   "outputs": [
    {
     "name": "stdin",
     "output_type": "stream",
     "text": [
      "Enter a number: 1034\n"
     ]
    },
    {
     "name": "stdout",
     "output_type": "stream",
     "text": [
      "Prime factors of the number 1034 = [2, 11, 47]\n"
     ]
    }
   ],
   "source": [
    "# 22. Write a program to find the prime factors of a given number using a `for` loop and list comprehension.\n",
    "n = int(input(\"Enter a number:\"))\n",
    "result = []\n",
    "\n",
    "for i in range(1, n // 2):\n",
    "    if(n % (i+1) == 0):\n",
    "        list_comp = [(i+1)%r == 0 for r in result]\n",
    "        if(len(result) == 0):\n",
    "            result.append(i+1)\n",
    "        elif(not any(list_comp)):\n",
    "            result.append(i+1)\n",
    "\n",
    "print(\"Prime factors of the number {} = {}\".format(n, result))"
   ]
  },
  {
   "cell_type": "code",
   "execution_count": 24,
   "id": "53df0206-6afe-445b-83e8-954e733b63a8",
   "metadata": {},
   "outputs": [
    {
     "name": "stdout",
     "output_type": "stream",
     "text": [
      "Unique elements in the list = [76, 93, 23, 1, 103]\n"
     ]
    }
   ],
   "source": [
    "# 23. Develop a program that extracts unique elements from a list and stores them in a new list using a list comprehension.\n",
    "list_vals = [76, 93, 23, 1, 23, 23, 1, 76, 103, 23]\n",
    "result = [l for i, l in enumerate(list_vals) if(l not in list_vals[:i])]\n",
    "        \n",
    "print(\"Unique elements in the list =\", result)"
   ]
  },
  {
   "cell_type": "code",
   "execution_count": 25,
   "id": "8806ee0b-492c-49ab-976b-cb840b39a981",
   "metadata": {},
   "outputs": [
    {
     "name": "stdin",
     "output_type": "stream",
     "text": [
      "Enter a number: 101\n"
     ]
    },
    {
     "name": "stdout",
     "output_type": "stream",
     "text": [
      "List of all palindromic numbers from 1 to 101 = [1, 2, 3, 4, 5, 6, 7, 8, 9, 11, 22, 33, 44, 55, 66, 77, 88, 99, 101]\n"
     ]
    }
   ],
   "source": [
    "# 24. Create a program that generates a list of all palindromic numbers up to a specified limit using a list comprehension.\n",
    "def check_palindrome(n):\n",
    "    temp = n\n",
    "    rev = 0\n",
    "    while(n > 0):\n",
    "        dig = n % 10\n",
    "        rev = rev * 10 + dig\n",
    "        n = n // 10\n",
    "    if(temp == rev):\n",
    "        return True\n",
    "    return False\n",
    "\n",
    "n = int(input(\"Enter a number:\"))\n",
    "result = [i for i in range(1, n+1) if(check_palindrome(i))]\n",
    "\n",
    "print(\"List of all palindromic numbers from 1 to {} = {}\".format(n, result))"
   ]
  },
  {
   "cell_type": "code",
   "execution_count": 26,
   "id": "bf58c480-6e58-455f-86c7-80645be0f2cd",
   "metadata": {},
   "outputs": [
    {
     "name": "stdout",
     "output_type": "stream",
     "text": [
      "Flattened list = [1, 2, 3, 4, 5, 6, 7, 8, 9]\n"
     ]
    }
   ],
   "source": [
    "# 25. Write a program to flatten a nested list using list comprehension.\n",
    "input_list = [[1, 2, 3], [4, 5, 6], [7, 8, 9]]\n",
    "\n",
    "result = [n for val in input_list for n in val]\n",
    "\n",
    "print(\"Flattened list = {}\".format(result))"
   ]
  },
  {
   "cell_type": "code",
   "execution_count": 27,
   "id": "8eaa3cc9-f710-4ef9-8f9b-487ca2bb6603",
   "metadata": {},
   "outputs": [
    {
     "name": "stdout",
     "output_type": "stream",
     "text": [
      "Sum of even numbers in the list = 14\n",
      "Sum of odd numbers in the list = 1158\n"
     ]
    }
   ],
   "source": [
    "# 26. Develop a program that computes the sum of even and odd numbers in a list separately using list comprehension.\n",
    "input_list = [23, 12, 2, 3, 109, 1023]\n",
    "\n",
    "even_list = sum([n for n in input_list if(n%2 == 0)])\n",
    "odd_list = sum([n for n in input_list if(n%2 == 1)])\n",
    "\n",
    "print(\"Sum of even numbers in the list =\", even_list)\n",
    "print(\"Sum of odd numbers in the list =\", odd_list)"
   ]
  },
  {
   "cell_type": "code",
   "execution_count": 28,
   "id": "a3b2362f-f370-4250-b42a-c7fbb84503ab",
   "metadata": {},
   "outputs": [
    {
     "name": "stdout",
     "output_type": "stream",
     "text": [
      "Squares of odd numbers = [1, 9, 25, 49, 81]\n"
     ]
    }
   ],
   "source": [
    "# 27. Create a program that generates a list of squares of odd numbers between 1 and 10 using list comprehension.\n",
    "print(\"Squares of odd numbers =\", [n**2 for n in range(1, 11) if(n%2 == 1)])"
   ]
  },
  {
   "cell_type": "code",
   "execution_count": 29,
   "id": "483b10bf-8ad1-4c0d-aea8-5bf2ba78ff6e",
   "metadata": {},
   "outputs": [
    {
     "name": "stdout",
     "output_type": "stream",
     "text": [
      "Combined lists into a dictionary = {1: 5, 2: 6, 3: 7, 4: 8, 5: 9, 6: 10, 7: 11, 8: 12, 9: 13, 10: 14}\n"
     ]
    }
   ],
   "source": [
    "# 28. Write a program that combines two lists into a dictionary using list comprehension.\n",
    "list1 = [1, 2, 3, 4, 5, 6, 7, 8, 9, 10]\n",
    "list2 = [5, 6, 7, 8, 9, 10, 11, 12, 13, 14]\n",
    "\n",
    "if(len(list1) != len(list2)):\n",
    "    print(\"Invalid list inputs\")\n",
    "else:\n",
    "    result = {l1:l2 for l1, l2 in zip(list1, list2)}\n",
    "\n",
    "    print(\"Combined lists into a dictionary =\", result)"
   ]
  },
  {
   "cell_type": "code",
   "execution_count": 30,
   "id": "9645ac12-5d18-43ba-b07e-72a4f0d1ed29",
   "metadata": {},
   "outputs": [
    {
     "name": "stdout",
     "output_type": "stream",
     "text": [
      "Vowels in the string = ['I', 'e', 'o', 'e', 'a', 'a', 'i', 'e', 'e', 'a', 'o', 'i']\n"
     ]
    }
   ],
   "source": [
    "# 29. Develop a program that extracts the vowels from a string and stores them in a list using list comprehension.\n",
    "string = \"I enjoy the data science class on PW Skills\"\n",
    "\n",
    "vowels = [\"a\", \"e\", \"i\", \"o\", \"u\", \"A\", \"E\", \"I\", \"O\", \"U\"]\n",
    "result = [char for char in string if(char in vowels)]\n",
    "\n",
    "print(\"Vowels in the string =\", result)"
   ]
  },
  {
   "cell_type": "code",
   "execution_count": 31,
   "id": "34d2ce29-17cf-479d-9759-5362de212e9e",
   "metadata": {},
   "outputs": [
    {
     "name": "stdout",
     "output_type": "stream",
     "text": [
      "List of string with non-numeric characters = ['123', '234', '567']\n"
     ]
    }
   ],
   "source": [
    "# 30. Create a program that removes all non-numeric characters from a list of strings using list comprehension.\n",
    "input_strs = [\"abc123\", \"def234\", \"ghi567\"]\n",
    "result = [n for inp in input_strs for n in re.findall(r'\\d+', inp)]\n",
    "\n",
    "print(\"List of string with non-numeric characters =\", result)"
   ]
  },
  {
   "cell_type": "markdown",
   "id": "d2019bd9-b8cc-4b5d-bd7f-d36e34855480",
   "metadata": {},
   "source": [
    "# Challenge Level:"
   ]
  },
  {
   "cell_type": "code",
   "execution_count": 32,
   "id": "a4d9c748-086f-44c1-8c23-a129ab5d61f4",
   "metadata": {},
   "outputs": [
    {
     "name": "stdin",
     "output_type": "stream",
     "text": [
      "Enter an integer: 1034\n"
     ]
    },
    {
     "name": "stdout",
     "output_type": "stream",
     "text": [
      "Prime numbers from 2 to 1034 = [2, 3, 5, 7, 11, 13, 17, 19, 23, 29, 31, 37, 41, 43, 47, 53, 59, 61, 67, 71, 73, 79, 83, 89, 97, 101, 103, 107, 109, 113, 127, 131, 137, 139, 149, 151, 157, 163, 167, 173, 179, 181, 191, 193, 197, 199, 211, 223, 227, 229, 233, 239, 241, 251, 257, 263, 269, 271, 277, 281, 283, 293, 307, 311, 313, 317, 331, 337, 347, 349, 353, 359, 367, 373, 379, 383, 389, 397, 401, 409, 419, 421, 431, 433, 439, 443, 449, 457, 461, 463, 467, 479, 487, 491, 499, 503, 509, 521, 523, 541, 547, 557, 563, 569, 571, 577, 587, 593, 599, 601, 607, 613, 617, 619, 631, 641, 643, 647, 653, 659, 661, 673, 677, 683, 691, 701, 709, 719, 727, 733, 739, 743, 751, 757, 761, 769, 773, 787, 797, 809, 811, 821, 823, 827, 829, 839, 853, 857, 859, 863, 877, 881, 883, 887, 907, 911, 919, 929, 937, 941, 947, 953, 967, 971, 977, 983, 991, 997, 1009, 1013, 1019, 1021, 1031, 1033]\n"
     ]
    }
   ],
   "source": [
    "# 31. Write a program to generate a list of prime numbers using the Sieve of Eratosthenes algorithm and list comprehension\n",
    "n = int(input(\"Enter an integer:\"))\n",
    "prime = [True for i in range(n+1)] \n",
    "\n",
    "for p in range(2, n+1):\n",
    "    if(not prime[p]):\n",
    "        continue\n",
    "    prime = prime[:p+1] + [False if(i % p==0) else prime[i] for i in range(p+1, n+1)]\n",
    "    \n",
    "result = []\n",
    "for i in range(2, n):\n",
    "    if(prime[i]):\n",
    "        result.append(i)\n",
    "\n",
    "print(\"Prime numbers from 2 to {} = {}\".format(n, result))"
   ]
  },
  {
   "cell_type": "code",
   "execution_count": 33,
   "id": "177a877a-5490-41e3-bd1b-23eb6d6deb71",
   "metadata": {},
   "outputs": [
    {
     "name": "stdin",
     "output_type": "stream",
     "text": [
      "Enter upper limit: 20\n"
     ]
    },
    {
     "name": "stdout",
     "output_type": "stream",
     "text": [
      "Pythagorean triplets = [[3, 4, 5], [8, 6, 10], [5, 12, 13], [15, 8, 17], [12, 16, 20]]\n"
     ]
    }
   ],
   "source": [
    "# 32. Create a program that generates a list of all Pythagorean triplets up to a specified limit using list comprehension.\n",
    "limit=int(input(\"Enter upper limit:\"))\n",
    "c=0\n",
    "m=2\n",
    "result = []\n",
    "while(c<limit):\n",
    "    result += [[m*m-n*n, 2*m*n, m*m+n*n] for n in range(1, m+1) if(m*m+n*n <= limit and m*m-n*n != 0 and 2*m*n != 0 and m*m+n*n != 0)]\n",
    "    c=result[-1][-1]\n",
    "    m=m+1\n",
    "    \n",
    "print(\"Pythagorean triplets = {}\".format(result))"
   ]
  },
  {
   "cell_type": "code",
   "execution_count": 34,
   "id": "3e2c3df4-5da5-4bf8-b2a1-a0c4ff508695",
   "metadata": {},
   "outputs": [
    {
     "name": "stdout",
     "output_type": "stream",
     "text": [
      "List of combinations of 2 lists = [(1, 6), (1, 7), (1, 8), (1, 9), (1, 10), (2, 6), (2, 7), (2, 8), (2, 9), (2, 10), (3, 6), (3, 7), (3, 8), (3, 9), (3, 10), (4, 6), (4, 7), (4, 8), (4, 9), (4, 10), (5, 6), (5, 7), (5, 8), (5, 9), (5, 10)]\n"
     ]
    }
   ],
   "source": [
    "# 33. Develop a program that generates a list of all possible combinations of two lists using list comprehension.\n",
    "list1 = [1, 2, 3, 4, 5]\n",
    "list2 = [6, 7, 8, 9, 10]\n",
    "\n",
    "result = [(l1, l2) for l1 in list1 for l2 in list2]\n",
    "\n",
    "print(\"List of combinations of 2 lists =\", result)"
   ]
  },
  {
   "cell_type": "code",
   "execution_count": 35,
   "id": "94bebb5d-cc14-47d8-8417-11d40617764e",
   "metadata": {},
   "outputs": [
    {
     "name": "stdout",
     "output_type": "stream",
     "text": [
      "Mean: 4.7\n",
      "Median: 5.0\n",
      "Mode: [5, 6]\n"
     ]
    }
   ],
   "source": [
    "# 34. Write a program that calculates the mean, median, and mode of a list of numbers using list comprehension.\n",
    "import statistics\n",
    "\n",
    "# Input list of numbers\n",
    "numbers = [1, 2, 3, 4, 5, 5, 6, 6, 7, 8]\n",
    "\n",
    "# Calculate the mean using list comprehension\n",
    "mean = sum(numbers) / len(numbers)\n",
    "\n",
    "# Calculate the median using list comprehension\n",
    "sorted_numbers = sorted(numbers)\n",
    "n = len(numbers)\n",
    "median = (sorted_numbers[n // 2] + sorted_numbers[(n - 1) // 2]) / 2\n",
    "\n",
    "# Calculate the mode using list comprehension\n",
    "counts = {num: numbers.count(num) for num in numbers}\n",
    "mode = [k for k, v in counts.items() if v == max(counts.values())]\n",
    "\n",
    "print(\"Mean:\", mean)\n",
    "print(\"Median:\", median)\n",
    "print(\"Mode:\", mode)"
   ]
  },
  {
   "cell_type": "code",
   "execution_count": 42,
   "id": "f054628e-fd4c-4a98-a5da-6e9dc133c1d9",
   "metadata": {},
   "outputs": [
    {
     "name": "stdin",
     "output_type": "stream",
     "text": [
      "Enter a number: 10\n"
     ]
    },
    {
     "name": "stdout",
     "output_type": "stream",
     "text": [
      "Pascal triangle of height 10:\n"
     ]
    },
    {
     "data": {
      "text/plain": [
       "[[1],\n",
       " [1, 1],\n",
       " [1, 2, 1],\n",
       " [1, 3, 3, 1],\n",
       " [1, 4, 6, 4, 1],\n",
       " [1, 5, 10, 10, 5, 1],\n",
       " [1, 6, 15, 20, 15, 6, 1],\n",
       " [1, 7, 21, 35, 35, 21, 7, 1],\n",
       " [1, 8, 28, 56, 70, 56, 28, 8, 1],\n",
       " [1, 9, 36, 84, 126, 126, 84, 36, 9, 1]]"
      ]
     },
     "execution_count": 42,
     "metadata": {},
     "output_type": "execute_result"
    }
   ],
   "source": [
    "# 35. Create a program that generates Pascal's triangle up to a specified number of rows using list comprehension.\n",
    "n_rows = int(input(\"Enter a number:\"))\n",
    "result = [[1], [1, 1]]\n",
    "\n",
    "for _ in range(2, n_rows):\n",
    "    result += [[1] + [result[-1][i-1] + result[-1][i] for i in range(1, len(result[-1]))] + [1]]\n",
    "    \n",
    "print(\"Pascal triangle of height {}:\".format(n_rows))\n",
    "result"
   ]
  },
  {
   "cell_type": "code",
   "execution_count": 37,
   "id": "cc3faa58-cf14-4e8b-aa96-b61f45d3be95",
   "metadata": {},
   "outputs": [
    {
     "name": "stdout",
     "output_type": "stream",
     "text": [
      "Sum of digits of 1! = 1\n",
      "Sum of digits of 2! = 2\n",
      "Sum of digits of 3! = 6\n",
      "Sum of digits of 4! = 6\n",
      "Sum of digits of 5! = 3\n"
     ]
    }
   ],
   "source": [
    "# 36. Develop a program that calculates the sum of the digits of a factorial of numbers from 1 to 5 using list comprehension.\n",
    "def factorial(n):\n",
    "    return 1 if n == 0 else n * factorial(n - 1)\n",
    "\n",
    "for n in range(1, 6):\n",
    "    n_fact = str(factorial(n))\n",
    "    result = sum([int(n_fact[i]) for i in range(len(n_fact))])\n",
    "    \n",
    "    print(f\"Sum of digits of {n}! = {result}\")"
   ]
  },
  {
   "cell_type": "code",
   "execution_count": 38,
   "id": "e5e62fb5-23f9-49a4-8d98-0e7b1164b49b",
   "metadata": {},
   "outputs": [
    {
     "name": "stdin",
     "output_type": "stream",
     "text": [
      "Enter a sentence:  I enjoy coding on pw skills\n"
     ]
    },
    {
     "name": "stdout",
     "output_type": "stream",
     "text": [
      "The longest word in the sentence is: coding\n"
     ]
    }
   ],
   "source": [
    "# 37. Write a program that finds the longest word in a sentence using list comprehension.\n",
    "sentence = input(\"Enter a sentence: \")\n",
    "\n",
    "# Split the sentence into words\n",
    "words = sentence.split()\n",
    "\n",
    "# Use list comprehension to find the longest word\n",
    "longest_word = max((word for word in words), key=len)\n",
    "\n",
    "print(f\"The longest word in the sentence is: {longest_word}\")"
   ]
  },
  {
   "cell_type": "code",
   "execution_count": 39,
   "id": "83640fb6-c932-4328-9d7d-f5c02f9f996a",
   "metadata": {},
   "outputs": [
    {
     "name": "stdout",
     "output_type": "stream",
     "text": [
      "Strings with more than three vowels:\n",
      "education\n",
      "entrepreneur\n",
      "communication\n",
      "independent\n",
      "restaurant\n",
      "extravagant\n",
      "imagination\n",
      "university\n",
      "atmosphere\n"
     ]
    }
   ],
   "source": [
    "# 38. Create a program that filters a list of strings to include only those with more than three vowels using list comprehension.\n",
    "# Function to count the number of vowels in a string\n",
    "def count_vowels(string):\n",
    "    vowels = \"aeiouAEIOU\"\n",
    "    return sum(1 for char in string if char in vowels)\n",
    "\n",
    "# Input list of strings\n",
    "string_list = [\"hello\", \"world\", \"of\", \"education\", \"I\", \"am\", \"an\", \"entrepreneur\", \"communication\", \"independent\", \"restaurant\", \"extravagant\", \"imagination\", \"university\", \"atmosphere\"]\n",
    "\n",
    "# Use list comprehension to filter strings with more than three vowels\n",
    "filtered_list = [string for string in string_list if count_vowels(string) > 3]\n",
    "\n",
    "print(\"Strings with more than three vowels:\")\n",
    "for string in filtered_list:\n",
    "    print(string)"
   ]
  },
  {
   "cell_type": "code",
   "execution_count": 40,
   "id": "de313d61-9216-4af6-8950-e4b8804200ea",
   "metadata": {},
   "outputs": [
    {
     "name": "stdout",
     "output_type": "stream",
     "text": [
      "The total sum of the digits of numbers from 1 to 1000 is: 13501\n"
     ]
    }
   ],
   "source": [
    "# 39. Develop a program that calculates the sum of the digits of numbers from 1 to 1000 using list comprehension.\n",
    "# Define a function to calculate the sum of digits in a number\n",
    "def sum_of_digits(n):\n",
    "    return sum(int(digit) for digit in str(n))\n",
    "\n",
    "# Use list comprehension to calculate the sum of digits for numbers from 1 to 1000\n",
    "sum_of_digits_list = [sum_of_digits(num) for num in range(1, 1001)]\n",
    "\n",
    "# Calculate the total sum of all the sums of digits\n",
    "total_sum = sum(sum_of_digits_list)\n",
    "\n",
    "print(\"The total sum of the digits of numbers from 1 to 1000 is:\", total_sum)"
   ]
  },
  {
   "cell_type": "code",
   "execution_count": 41,
   "id": "2b09c626-f6e5-4db1-986e-45c7075468ac",
   "metadata": {},
   "outputs": [
    {
     "name": "stdout",
     "output_type": "stream",
     "text": [
      "Prime palindromic numbers from 1 to 1000:\n",
      "[2, 3, 5, 7, 11, 101, 131, 151, 181, 191, 313, 353, 373, 383, 727, 757, 787, 797, 919, 929]\n"
     ]
    }
   ],
   "source": [
    "# 40. Write a program that generates a list of prime palindromic numbers using list comprehension.\n",
    "# Function to check if a number is prime\n",
    "def is_prime(num):\n",
    "    if num <= 1:\n",
    "        return False\n",
    "    for i in range(2, int(num**0.5) + 1):\n",
    "        if num % i == 0:\n",
    "            return False\n",
    "    return True\n",
    "\n",
    "# Function to check if a number is a palindrome\n",
    "def is_palindrome(num):\n",
    "    return str(num) == str(num)[::-1]\n",
    "\n",
    "# Generate a list of prime palindromic numbers using list comprehension\n",
    "prime_palindromic_numbers = [num for num in range(1, 1000) if is_prime(num) and is_palindrome(num)]\n",
    "\n",
    "print(\"Prime palindromic numbers from 1 to 1000:\")\n",
    "print(prime_palindromic_numbers)"
   ]
  },
  {
   "cell_type": "code",
   "execution_count": null,
   "id": "2e4ced29-b08b-4aef-945e-7ddbf831ccfc",
   "metadata": {},
   "outputs": [],
   "source": []
  }
 ],
 "metadata": {
  "kernelspec": {
   "display_name": "Python 3 (ipykernel)",
   "language": "python",
   "name": "python3"
  },
  "language_info": {
   "codemirror_mode": {
    "name": "ipython",
    "version": 3
   },
   "file_extension": ".py",
   "mimetype": "text/x-python",
   "name": "python",
   "nbconvert_exporter": "python",
   "pygments_lexer": "ipython3",
   "version": "3.10.8"
  }
 },
 "nbformat": 4,
 "nbformat_minor": 5
}
